{
 "cells": [
  {
   "cell_type": "markdown",
   "id": "a5d84459",
   "metadata": {},
   "source": [
    "# Cotação de Preços\n",
    "\n",
    "Este projeto visa facilitar as tarefas de cotações de preços na internet.\n",
    "Através de técnicas de WebScaraping,foram automatizados alguns processos repetitivos de coleta de informações.\n",
    "O objetivo é pesquisar os itens em diversas lojas através do site buscapé e retornar \n",
    "o melhor preço e algumas estatisticas ao cliente final. \n"
   ]
  },
  {
   "cell_type": "code",
   "execution_count": 1,
   "id": "c3272ea0",
   "metadata": {},
   "outputs": [],
   "source": [
    "import requests\n",
    "import pandas as pd\n",
    "import pandas_profiling\n",
    "from bs4 import BeautifulSoup\n",
    "import matplotlib.pyplot as plt"
   ]
  },
  {
   "cell_type": "code",
   "execution_count": 2,
   "id": "641ff1b0",
   "metadata": {},
   "outputs": [],
   "source": [
    "lista_produtos = []\n",
    "pesquisa = []"
   ]
  },
  {
   "cell_type": "code",
   "execution_count": 3,
   "id": "4120fb58",
   "metadata": {},
   "outputs": [],
   "source": [
    "#Definição da plataforma de cotação\n",
    "url_base = \"http://www.buscape.com.br\"\n",
    "url = \"https://www.buscape.com.br/search?q=\""
   ]
  },
  {
   "cell_type": "code",
   "execution_count": 4,
   "id": "4af13e59",
   "metadata": {
    "scrolled": true
   },
   "outputs": [
    {
     "name": "stdout",
     "output_type": "stream",
     "text": [
      "Quantos itens deseja cotar? 3\n",
      "Digite o produto a ser cotado: caixa jbl \n"
     ]
    }
   ],
   "source": [
    "itens = input(\"Quantos itens deseja cotar? \")\n",
    "pesquisa = input(\"Digite o produto a ser cotado: \")\n"
   ]
  },
  {
   "cell_type": "code",
   "execution_count": 5,
   "id": "5ec64067",
   "metadata": {},
   "outputs": [
    {
     "name": "stdout",
     "output_type": "stream",
     "text": [
      "https://www.buscape.com.br/search?q=caixa jbl \n"
     ]
    }
   ],
   "source": [
    "print (url+pesquisa)"
   ]
  },
  {
   "cell_type": "code",
   "execution_count": 6,
   "id": "2ca3ea58",
   "metadata": {},
   "outputs": [],
   "source": [
    "response = requests.get(url + pesquisa)"
   ]
  },
  {
   "cell_type": "code",
   "execution_count": 7,
   "id": "3249ed12",
   "metadata": {},
   "outputs": [],
   "source": [
    "#Criação do objeto Beautfulsoup\n",
    "site = BeautifulSoup(response.text, 'html.parser')"
   ]
  },
  {
   "cell_type": "code",
   "execution_count": 8,
   "id": "9daa7b3d",
   "metadata": {},
   "outputs": [],
   "source": [
    "#print(site.prettify())"
   ]
  },
  {
   "cell_type": "code",
   "execution_count": 9,
   "id": "4b6f9f4c",
   "metadata": {},
   "outputs": [],
   "source": [
    "produtos = site.findAll('div', attrs= {'class': 'card card--offer card--cpc'})"
   ]
  },
  {
   "cell_type": "code",
   "execution_count": 10,
   "id": "5f85bbbd",
   "metadata": {},
   "outputs": [],
   "source": [
    "loja1 = []"
   ]
  },
  {
   "cell_type": "code",
   "execution_count": 11,
   "id": "725fb971",
   "metadata": {},
   "outputs": [],
   "source": [
    "#Percorrendo a pagina HTML da platafoma de cotação e criando o Dataframe.\n",
    "for produto in produtos:\n",
    "   \n",
    "    titulo = produto.find('a', attrs= {'class': 'link'})\n",
    "    valoreal = produto.find('span', attrs= {'class': 'mainValue'})\n",
    "    valorcent = produto.find('span', attrs= {'class': 'centsValue'})\n",
    "   # link = url_base + link_produto\n",
    "    if(valorcent):\n",
    "        valor = valoreal.text + valorcent.text\n",
    "    else:\n",
    "        print(valoreal)\n",
    "        \n",
    "    loja = produto.find('a', attrs = {'class': 'merchantName'})\n",
    "    loja1 = produto.find('a', attrs = {'class': 'merchantName'})\n",
    "    link_produto = produto.find('a', attrs = {'class': 'link'})\n",
    "    link_produto = link_produto['href']\n",
    "    lista_produtos.append([titulo.text,valor,loja.text,url+link_produto]) \n",
    "    \n",
    "  #  lista_produtos.append([titulo.text, valor, loja.text,link ])\n",
    "  #  cotacao = pd.Dataframe(lista_produtos, columns=['Titulo','Preço','Loja','link'])\n",
    "  #  print(titulo.text)\n",
    "  #  print(valor)\n",
    "  #  print(loja.text)\n",
    "  #  print(url_base + link_produto)\n",
    "  #  print('\\n\\n')"
   ]
  },
  {
   "cell_type": "code",
   "execution_count": 12,
   "id": "fc138eff",
   "metadata": {},
   "outputs": [],
   "source": [
    "cotacao = pd.DataFrame(lista_produtos, columns=['Titulo','Preco','Loja','Link'], )"
   ]
  },
  {
   "cell_type": "code",
   "execution_count": 13,
   "id": "a41849f0",
   "metadata": {},
   "outputs": [],
   "source": [
    "cotacao.to_csv('cotacao.csv', index=False)"
   ]
  },
  {
   "cell_type": "code",
   "execution_count": 14,
   "id": "535f648b",
   "metadata": {},
   "outputs": [],
   "source": [
    "#criando o arquivo csv\n",
    "cotacao1 = pd.read_csv('cotacao.csv' )"
   ]
  },
  {
   "cell_type": "code",
   "execution_count": 15,
   "id": "68055eff",
   "metadata": {},
   "outputs": [
    {
     "data": {
      "text/html": [
       "<div>\n",
       "<style scoped>\n",
       "    .dataframe tbody tr th:only-of-type {\n",
       "        vertical-align: middle;\n",
       "    }\n",
       "\n",
       "    .dataframe tbody tr th {\n",
       "        vertical-align: top;\n",
       "    }\n",
       "\n",
       "    .dataframe thead th {\n",
       "        text-align: right;\n",
       "    }\n",
       "</style>\n",
       "<table border=\"1\" class=\"dataframe\">\n",
       "  <thead>\n",
       "    <tr style=\"text-align: right;\">\n",
       "      <th></th>\n",
       "      <th>Titulo</th>\n",
       "      <th>Preco</th>\n",
       "      <th>Loja</th>\n",
       "      <th>Link</th>\n",
       "    </tr>\n",
       "  </thead>\n",
       "  <tbody>\n",
       "    <tr>\n",
       "      <th>0</th>\n",
       "      <td>Caixa Similar JBL Charge 2+ Plus Prova D'agua ...</td>\n",
       "      <td>R$ 113,00</td>\n",
       "      <td>Amazon</td>\n",
       "      <td>https://www.buscape.com.br/search?q=/lead?oid=...</td>\n",
       "    </tr>\n",
       "    <tr>\n",
       "      <th>1</th>\n",
       "      <td>Caixa De Som Jbl Charge 4 Portátil Bluetooth B...</td>\n",
       "      <td>R$ 1.349,90</td>\n",
       "      <td>Carrefour</td>\n",
       "      <td>https://www.buscape.com.br/search?q=/lead?oid=...</td>\n",
       "    </tr>\n",
       "    <tr>\n",
       "      <th>2</th>\n",
       "      <td>Caixa Jbl Js15bt Usb</td>\n",
       "      <td>R$ 2.028,79</td>\n",
       "      <td>Carrefour</td>\n",
       "      <td>https://www.buscape.com.br/search?q=/lead?oid=...</td>\n",
       "    </tr>\n",
       "    <tr>\n",
       "      <th>3</th>\n",
       "      <td>PROMOÇÃO CAIXA DE SOM PORTÁTIL MIFA A10 BLUETO...</td>\n",
       "      <td>R$ 280,00</td>\n",
       "      <td>Amazon</td>\n",
       "      <td>https://www.buscape.com.br/search?q=/lead?oid=...</td>\n",
       "    </tr>\n",
       "  </tbody>\n",
       "</table>\n",
       "</div>"
      ],
      "text/plain": [
       "                                              Titulo        Preco       Loja  \\\n",
       "0  Caixa Similar JBL Charge 2+ Plus Prova D'agua ...    R$ 113,00     Amazon   \n",
       "1  Caixa De Som Jbl Charge 4 Portátil Bluetooth B...  R$ 1.349,90  Carrefour   \n",
       "2                               Caixa Jbl Js15bt Usb  R$ 2.028,79  Carrefour   \n",
       "3  PROMOÇÃO CAIXA DE SOM PORTÁTIL MIFA A10 BLUETO...    R$ 280,00     Amazon   \n",
       "\n",
       "                                                Link  \n",
       "0  https://www.buscape.com.br/search?q=/lead?oid=...  \n",
       "1  https://www.buscape.com.br/search?q=/lead?oid=...  \n",
       "2  https://www.buscape.com.br/search?q=/lead?oid=...  \n",
       "3  https://www.buscape.com.br/search?q=/lead?oid=...  "
      ]
     },
     "execution_count": 15,
     "metadata": {},
     "output_type": "execute_result"
    }
   ],
   "source": [
    "cotacao1"
   ]
  },
  {
   "cell_type": "code",
   "execution_count": 16,
   "id": "9477a614",
   "metadata": {},
   "outputs": [],
   "source": [
    "#Filtrando lojas repetidas\n",
    "cotacao1 = cotacao1.drop_duplicates(\"Loja\")"
   ]
  },
  {
   "cell_type": "code",
   "execution_count": 17,
   "id": "121fdc0c",
   "metadata": {},
   "outputs": [
    {
     "data": {
      "text/html": [
       "<div>\n",
       "<style scoped>\n",
       "    .dataframe tbody tr th:only-of-type {\n",
       "        vertical-align: middle;\n",
       "    }\n",
       "\n",
       "    .dataframe tbody tr th {\n",
       "        vertical-align: top;\n",
       "    }\n",
       "\n",
       "    .dataframe thead th {\n",
       "        text-align: right;\n",
       "    }\n",
       "</style>\n",
       "<table border=\"1\" class=\"dataframe\">\n",
       "  <thead>\n",
       "    <tr style=\"text-align: right;\">\n",
       "      <th></th>\n",
       "      <th>Titulo</th>\n",
       "      <th>Preco</th>\n",
       "      <th>Loja</th>\n",
       "      <th>Link</th>\n",
       "    </tr>\n",
       "  </thead>\n",
       "  <tbody>\n",
       "    <tr>\n",
       "      <th>0</th>\n",
       "      <td>Caixa Similar JBL Charge 2+ Plus Prova D'agua ...</td>\n",
       "      <td>R$ 113,00</td>\n",
       "      <td>Amazon</td>\n",
       "      <td>https://www.buscape.com.br/search?q=/lead?oid=...</td>\n",
       "    </tr>\n",
       "    <tr>\n",
       "      <th>1</th>\n",
       "      <td>Caixa De Som Jbl Charge 4 Portátil Bluetooth B...</td>\n",
       "      <td>R$ 1.349,90</td>\n",
       "      <td>Carrefour</td>\n",
       "      <td>https://www.buscape.com.br/search?q=/lead?oid=...</td>\n",
       "    </tr>\n",
       "  </tbody>\n",
       "</table>\n",
       "</div>"
      ],
      "text/plain": [
       "                                              Titulo        Preco       Loja  \\\n",
       "0  Caixa Similar JBL Charge 2+ Plus Prova D'agua ...    R$ 113,00     Amazon   \n",
       "1  Caixa De Som Jbl Charge 4 Portátil Bluetooth B...  R$ 1.349,90  Carrefour   \n",
       "\n",
       "                                                Link  \n",
       "0  https://www.buscape.com.br/search?q=/lead?oid=...  \n",
       "1  https://www.buscape.com.br/search?q=/lead?oid=...  "
      ]
     },
     "execution_count": 17,
     "metadata": {},
     "output_type": "execute_result"
    }
   ],
   "source": [
    "cotacao1"
   ]
  },
  {
   "cell_type": "code",
   "execution_count": null,
   "id": "6061f9d1",
   "metadata": {},
   "outputs": [],
   "source": []
  },
  {
   "cell_type": "code",
   "execution_count": 18,
   "id": "a3b383a9",
   "metadata": {},
   "outputs": [
    {
     "data": {
      "text/plain": [
       "<BarContainer object of 2 artists>"
      ]
     },
     "execution_count": 18,
     "metadata": {},
     "output_type": "execute_result"
    },
    {
     "data": {
      "image/png": "[encoded data removed]",
      "text/plain": [
       "<Figure size 432x288 with 1 Axes>"
      ]
     },
     "metadata": {
      "needs_background": "light"
     },
     "output_type": "display_data"
    }
   ],
   "source": [
    "plt.bar(cotacao1.Loja,cotacao1.Preco, color='blue')\n"
   ]
  },
  {
   "cell_type": "code",
   "execution_count": 19,
   "id": "828dd858",
   "metadata": {},
   "outputs": [],
   "source": [
    "Lojas = cotacao1.Loja\n"
   ]
  },
  {
   "cell_type": "code",
   "execution_count": 20,
   "id": "b94b3810",
   "metadata": {},
   "outputs": [
    {
     "name": "stdout",
     "output_type": "stream",
     "text": [
      "Foi realizada pesquisa entre as lojas: \n"
     ]
    },
    {
     "data": {
      "text/plain": [
       "0       Amazon\n",
       "1    Carrefour\n",
       "Name: Loja, dtype: object"
      ]
     },
     "execution_count": 20,
     "metadata": {},
     "output_type": "execute_result"
    }
   ],
   "source": [
    "print('Foi realizada pesquisa entre as lojas: ')\n",
    "Lojas"
   ]
  },
  {
   "cell_type": "code",
   "execution_count": 22,
   "id": "4fbaa580",
   "metadata": {},
   "outputs": [],
   "source": [
    "pmax = cotacao1['Preco'].max()\n",
    "\n",
    "pmin = cotacao1['Preco'].min()"
   ]
  },
  {
   "cell_type": "code",
   "execution_count": 46,
   "id": "b5a763c3",
   "metadata": {},
   "outputs": [
    {
     "ename": "ValueError",
     "evalue": "could not convert string to float: 'R$ 1.349,90'",
     "output_type": "error",
     "traceback": [
      "\u001b[1;31m---------------------------------------------------------------------------\u001b[0m",
      "\u001b[1;31mValueError\u001b[0m                                Traceback (most recent call last)",
      "\u001b[1;32m<ipython-input-46-fdf253204d41>\u001b[0m in \u001b[0;36m<module>\u001b[1;34m\u001b[0m\n\u001b[1;32m----> 1\u001b[1;33m \u001b[0mfloat\u001b[0m\u001b[1;33m(\u001b[0m\u001b[0mpmin\u001b[0m\u001b[1;33m)\u001b[0m\u001b[1;33m\u001b[0m\u001b[1;33m\u001b[0m\u001b[0m\n\u001b[0m",
      "\u001b[1;31mValueError\u001b[0m: could not convert string to float: 'R$ 1.349,90'"
     ]
    }
   ],
   "source": [
    "float(pmin)"
   ]
  },
  {
   "cell_type": "code",
   "execution_count": 23,
   "id": "9190a921",
   "metadata": {},
   "outputs": [
    {
     "name": "stdout",
     "output_type": "stream",
     "text": [
      "113,00\n"
     ]
    }
   ],
   "source": [
    "print(pmax[3:])"
   ]
  },
  {
   "cell_type": "code",
   "execution_count": 51,
   "id": "d72a10ec",
   "metadata": {},
   "outputs": [],
   "source": [
    "precomax  = pmax[3:]"
   ]
  },
  {
   "cell_type": "code",
   "execution_count": 52,
   "id": "bfa2235b",
   "metadata": {},
   "outputs": [],
   "source": [
    "precomin  = pmin[3:]"
   ]
  },
  {
   "cell_type": "code",
   "execution_count": 66,
   "id": "d46f4714",
   "metadata": {},
   "outputs": [],
   "source": [
    "\n",
    "pmax1 = float(precomax.replace(',', '.'))"
   ]
  },
  {
   "cell_type": "code",
   "execution_count": 67,
   "id": "6ed634a5",
   "metadata": {},
   "outputs": [],
   "source": [
    "pmin1 = float(precomin.replace(',', ''))"
   ]
  },
  {
   "cell_type": "code",
   "execution_count": 72,
   "id": "8e76d8dd",
   "metadata": {},
   "outputs": [
    {
     "data": {
      "text/plain": [
       "1.117"
      ]
     },
     "execution_count": 72,
     "metadata": {},
     "output_type": "execute_result"
    }
   ],
   "source": [
    "variacaomedia = (pmax1 -pmin1)/100\n",
    "variacaomedia = round(variacaomedia,3)\n",
    "variacaomedia\n"
   ]
  },
  {
   "cell_type": "code",
   "execution_count": 55,
   "id": "ac2f9094",
   "metadata": {},
   "outputs": [],
   "source": [
    "\n",
    "pmax = cotacao1[cotacao1['Preco']==cotacao1['Preco'].max()]"
   ]
  },
  {
   "cell_type": "code",
   "execution_count": 56,
   "id": "69025076",
   "metadata": {},
   "outputs": [],
   "source": [
    "pmin =cotacao1[cotacao1['Preco']==cotacao1['Preco'].min()]"
   ]
  },
  {
   "cell_type": "code",
   "execution_count": 57,
   "id": "60e946f0",
   "metadata": {},
   "outputs": [
    {
     "name": "stdout",
     "output_type": "stream",
     "text": [
      "O melhor preco esta na loja: \n"
     ]
    },
    {
     "data": {
      "text/html": [
       "<div>\n",
       "<style scoped>\n",
       "    .dataframe tbody tr th:only-of-type {\n",
       "        vertical-align: middle;\n",
       "    }\n",
       "\n",
       "    .dataframe tbody tr th {\n",
       "        vertical-align: top;\n",
       "    }\n",
       "\n",
       "    .dataframe thead th {\n",
       "        text-align: right;\n",
       "    }\n",
       "</style>\n",
       "<table border=\"1\" class=\"dataframe\">\n",
       "  <thead>\n",
       "    <tr style=\"text-align: right;\">\n",
       "      <th></th>\n",
       "      <th>Titulo</th>\n",
       "      <th>Preco</th>\n",
       "      <th>Loja</th>\n",
       "      <th>Link</th>\n",
       "    </tr>\n",
       "  </thead>\n",
       "  <tbody>\n",
       "    <tr>\n",
       "      <th>1</th>\n",
       "      <td>Caixa De Som Jbl Charge 4 Portátil Bluetooth B...</td>\n",
       "      <td>R$ 1.349,90</td>\n",
       "      <td>Carrefour</td>\n",
       "      <td>https://www.buscape.com.br/search?q=/lead?oid=...</td>\n",
       "    </tr>\n",
       "  </tbody>\n",
       "</table>\n",
       "</div>"
      ],
      "text/plain": [
       "                                              Titulo        Preco       Loja  \\\n",
       "1  Caixa De Som Jbl Charge 4 Portátil Bluetooth B...  R$ 1.349,90  Carrefour   \n",
       "\n",
       "                                                Link  \n",
       "1  https://www.buscape.com.br/search?q=/lead?oid=...  "
      ]
     },
     "execution_count": 57,
     "metadata": {},
     "output_type": "execute_result"
    }
   ],
   "source": [
    "print(\"O melhor preco esta na loja: \" )\n",
    "\n",
    "\n",
    "\n",
    "\n",
    "pmin"
   ]
  },
  {
   "cell_type": "code",
   "execution_count": 58,
   "id": "585ae6aa",
   "metadata": {},
   "outputs": [
    {
     "name": "stdout",
     "output_type": "stream",
     "text": [
      "O preço mais alto esta na loja: \n"
     ]
    },
    {
     "data": {
      "text/html": [
       "<div>\n",
       "<style scoped>\n",
       "    .dataframe tbody tr th:only-of-type {\n",
       "        vertical-align: middle;\n",
       "    }\n",
       "\n",
       "    .dataframe tbody tr th {\n",
       "        vertical-align: top;\n",
       "    }\n",
       "\n",
       "    .dataframe thead th {\n",
       "        text-align: right;\n",
       "    }\n",
       "</style>\n",
       "<table border=\"1\" class=\"dataframe\">\n",
       "  <thead>\n",
       "    <tr style=\"text-align: right;\">\n",
       "      <th></th>\n",
       "      <th>Titulo</th>\n",
       "      <th>Preco</th>\n",
       "      <th>Loja</th>\n",
       "      <th>Link</th>\n",
       "    </tr>\n",
       "  </thead>\n",
       "  <tbody>\n",
       "    <tr>\n",
       "      <th>0</th>\n",
       "      <td>Caixa Similar JBL Charge 2+ Plus Prova D'agua ...</td>\n",
       "      <td>R$ 113,00</td>\n",
       "      <td>Amazon</td>\n",
       "      <td>https://www.buscape.com.br/search?q=/lead?oid=...</td>\n",
       "    </tr>\n",
       "  </tbody>\n",
       "</table>\n",
       "</div>"
      ],
      "text/plain": [
       "                                              Titulo      Preco    Loja  \\\n",
       "0  Caixa Similar JBL Charge 2+ Plus Prova D'agua ...  R$ 113,00  Amazon   \n",
       "\n",
       "                                                Link  \n",
       "0  https://www.buscape.com.br/search?q=/lead?oid=...  "
      ]
     },
     "execution_count": 58,
     "metadata": {},
     "output_type": "execute_result"
    }
   ],
   "source": [
    "print(\"O preço mais alto esta na loja: \" )\n",
    "pmax"
   ]
  },
  {
   "cell_type": "code",
   "execution_count": null,
   "id": "908cf2c2",
   "metadata": {},
   "outputs": [],
   "source": []
  }
 ],
 "metadata": {
  "kernelspec": {
   "display_name": "Python 3",
   "language": "python",
   "name": "python3"
  },
  "language_info": {
   "codemirror_mode": {
    "name": "ipython",
    "version": 3
   },
   "file_extension": ".py",
   "mimetype": "text/x-python",
   "name": "python",
   "nbconvert_exporter": "python",
   "pygments_lexer": "ipython3",
   "version": "3.8.8"
  }
 },
 "nbformat": 4,
 "nbformat_minor": 5
}
