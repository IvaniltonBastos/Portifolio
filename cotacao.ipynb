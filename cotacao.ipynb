{
 "cells": [
  {
   "cell_type": "markdown",
   "id": "981f1747",
   "metadata": {},
   "source": [
    "# Cotação de Preços\n",
    "\n",
    "Este projeto visa facilitar as tarefas de cotações de preços na internet.\n",
    "Através de técnicas de WebScaraping,foram automatizados alguns processos repetitivos de coleta de informações.\n",
    "O objetivo é pesquisar os itens em diversas lojas através do site buscapé e retornar \n",
    "o melhor preço e algumas estatisticas ao cliente final. \n"
   ]
  },
  {
   "cell_type": "code",
   "execution_count": 70,
   "id": "c3272ea0",
   "metadata": {},
   "outputs": [],
   "source": [
    "import requests\n",
    "import pandas as pd\n",
    "import pandas_profiling\n",
    "from bs4 import BeautifulSoup\n",
    "import matplotlib.pyplot as plt"
   ]
  },
  {
   "cell_type": "code",
   "execution_count": 71,
   "id": "641ff1b0",
   "metadata": {},
   "outputs": [],
   "source": [
    "lista_produtos = []\n",
    "pesquisa = []"
   ]
  },
  {
   "cell_type": "code",
   "execution_count": 72,
   "id": "4120fb58",
   "metadata": {},
   "outputs": [],
   "source": [
    "#Definição da plataforma de cotação\n",
    "url_base = \"http://www.buscape.com.br\"\n",
    "url = \"https://www.buscape.com.br/search?q=\""
   ]
  },
  {
   "cell_type": "code",
   "execution_count": 73,
   "id": "4af13e59",
   "metadata": {},
   "outputs": [
    {
     "name": "stdout",
     "output_type": "stream",
     "text": [
      "Quantos itens deseja cotar? 3\n",
      "Digite o produto a ser cotado: Tenis adidas \n"
     ]
    }
   ],
   "source": [
    "itens = input(\"Quantos itens deseja cotar? \")\n",
    "pesquisa = input(\"Digite o produto a ser cotado: \")\n"
   ]
  },
  {
   "cell_type": "code",
   "execution_count": 74,
   "id": "5ec64067",
   "metadata": {},
   "outputs": [
    {
     "name": "stdout",
     "output_type": "stream",
     "text": [
      "https://www.buscape.com.br/search?q=Tenis adidas \n"
     ]
    }
   ],
   "source": [
    "print (url+pesquisa)"
   ]
  },
  {
   "cell_type": "code",
   "execution_count": 75,
   "id": "2ca3ea58",
   "metadata": {},
   "outputs": [],
   "source": [
    "response = requests.get(url + pesquisa)"
   ]
  },
  {
   "cell_type": "code",
   "execution_count": 76,
   "id": "3249ed12",
   "metadata": {},
   "outputs": [],
   "source": [
    "#Criação do objeto Beautfulsoup\n",
    "site = BeautifulSoup(response.text, 'html.parser')"
   ]
  },
  {
   "cell_type": "code",
   "execution_count": 77,
   "id": "9daa7b3d",
   "metadata": {},
   "outputs": [],
   "source": [
    "#print(site.prettify())"
   ]
  },
  {
   "cell_type": "code",
   "execution_count": 78,
   "id": "4b6f9f4c",
   "metadata": {},
   "outputs": [],
   "source": [
    "produtos = site.findAll('div', attrs= {'class': 'card card--offer card--cpc'})"
   ]
  },
  {
   "cell_type": "code",
   "execution_count": 79,
   "id": "5f85bbbd",
   "metadata": {},
   "outputs": [],
   "source": [
    "loja1 = []"
   ]
  },
  {
   "cell_type": "code",
   "execution_count": 80,
   "id": "725fb971",
   "metadata": {},
   "outputs": [],
   "source": [
    "#Percorrendo a pagina HTML da platafoma de cotação e criando o Dataframe.\n",
    "for produto in produtos:\n",
    "   \n",
    "    titulo = produto.find('a', attrs= {'class': 'link'})\n",
    "    valoreal = produto.find('span', attrs= {'class': 'mainValue'})\n",
    "    valorcent = produto.find('span', attrs= {'class': 'centsValue'})\n",
    "   # link = url_base + link_produto\n",
    "    if(valorcent):\n",
    "        valor = valoreal.text + valorcent.text\n",
    "    else:\n",
    "        print(valoreal)\n",
    "        \n",
    "    loja = produto.find('a', attrs = {'class': 'merchantName'})\n",
    "    loja1 = produto.find('a', attrs = {'class': 'merchantName'})\n",
    "    link_produto = produto.find('a', attrs = {'class': 'link'})\n",
    "    link_produto = link_produto['href']\n",
    "    lista_produtos.append([titulo.text,valor,loja.text,url+link_produto]) \n",
    "    \n",
    "  #  lista_produtos.append([titulo.text, valor, loja.text,link ])\n",
    "  #  cotacao = pd.Dataframe(lista_produtos, columns=['Titulo','Preço','Loja','link'])\n",
    "  #  print(titulo.text)\n",
    "  #  print(valor)\n",
    "  #  print(loja.text)\n",
    "  #  print(url_base + link_produto)\n",
    "  #  print('\\n\\n')"
   ]
  },
  {
   "cell_type": "code",
   "execution_count": 81,
   "id": "fc138eff",
   "metadata": {},
   "outputs": [],
   "source": [
    "cotacao = pd.DataFrame(lista_produtos, columns=['Titulo','Preco','Loja','Link'], )"
   ]
  },
  {
   "cell_type": "code",
   "execution_count": 82,
   "id": "a41849f0",
   "metadata": {},
   "outputs": [],
   "source": [
    "cotacao.to_csv('cotacao.csv', index=False)"
   ]
  },
  {
   "cell_type": "code",
   "execution_count": 83,
   "id": "535f648b",
   "metadata": {},
   "outputs": [],
   "source": [
    "#criando o arquivo csv\n",
    "cotacao1 = pd.read_csv('cotacao.csv' )"
   ]
  },
  {
   "cell_type": "code",
   "execution_count": 84,
   "id": "68055eff",
   "metadata": {},
   "outputs": [
    {
     "data": {
      "text/html": [
       "<div>\n",
       "<style scoped>\n",
       "    .dataframe tbody tr th:only-of-type {\n",
       "        vertical-align: middle;\n",
       "    }\n",
       "\n",
       "    .dataframe tbody tr th {\n",
       "        vertical-align: top;\n",
       "    }\n",
       "\n",
       "    .dataframe thead th {\n",
       "        text-align: right;\n",
       "    }\n",
       "</style>\n",
       "<table border=\"1\" class=\"dataframe\">\n",
       "  <thead>\n",
       "    <tr style=\"text-align: right;\">\n",
       "      <th></th>\n",
       "      <th>Titulo</th>\n",
       "      <th>Preco</th>\n",
       "      <th>Loja</th>\n",
       "      <th>Link</th>\n",
       "    </tr>\n",
       "  </thead>\n",
       "  <tbody>\n",
       "    <tr>\n",
       "      <th>0</th>\n",
       "      <td>Tênis Adidas Energy Falcon Masculino</td>\n",
       "      <td>R$ 189,99</td>\n",
       "      <td>Magazine Luiza</td>\n",
       "      <td>https://www.buscape.com.br/search?q=/lead?oid=...</td>\n",
       "    </tr>\n",
       "    <tr>\n",
       "      <th>1</th>\n",
       "      <td>Tênis Adidas Superstar Preto  unissex</td>\n",
       "      <td>R$ 349,90</td>\n",
       "      <td>Dafiti</td>\n",
       "      <td>https://www.buscape.com.br/search?q=/lead?oid=...</td>\n",
       "    </tr>\n",
       "    <tr>\n",
       "      <th>2</th>\n",
       "      <td>Tênis Adidas Galaxar Run Masculino</td>\n",
       "      <td>R$ 249,99</td>\n",
       "      <td>Magazine Luiza</td>\n",
       "      <td>https://www.buscape.com.br/search?q=/lead?oid=...</td>\n",
       "    </tr>\n",
       "    <tr>\n",
       "      <th>3</th>\n",
       "      <td>Tênis adidas Originals Xplr S Preto ADIDAS Ori...</td>\n",
       "      <td>R$ 339,99</td>\n",
       "      <td>Dafiti</td>\n",
       "      <td>https://www.buscape.com.br/search?q=/lead?oid=...</td>\n",
       "    </tr>\n",
       "    <tr>\n",
       "      <th>4</th>\n",
       "      <td>Tênis Adidas Duramo SL Feminino</td>\n",
       "      <td>R$ 220,99</td>\n",
       "      <td>Magazine Luiza</td>\n",
       "      <td>https://www.buscape.com.br/search?q=/lead?oid=...</td>\n",
       "    </tr>\n",
       "    <tr>\n",
       "      <th>5</th>\n",
       "      <td>Tênis adidas Originals Superstar Preto/Branco ...</td>\n",
       "      <td>R$ 369,99</td>\n",
       "      <td>Kanui</td>\n",
       "      <td>https://www.buscape.com.br/search?q=/lead?oid=...</td>\n",
       "    </tr>\n",
       "  </tbody>\n",
       "</table>\n",
       "</div>"
      ],
      "text/plain": [
       "                                              Titulo      Preco  \\\n",
       "0               Tênis Adidas Energy Falcon Masculino  R$ 189,99   \n",
       "1              Tênis Adidas Superstar Preto  unissex  R$ 349,90   \n",
       "2                 Tênis Adidas Galaxar Run Masculino  R$ 249,99   \n",
       "3  Tênis adidas Originals Xplr S Preto ADIDAS Ori...  R$ 339,99   \n",
       "4                    Tênis Adidas Duramo SL Feminino  R$ 220,99   \n",
       "5  Tênis adidas Originals Superstar Preto/Branco ...  R$ 369,99   \n",
       "\n",
       "             Loja                                               Link  \n",
       "0  Magazine Luiza  https://www.buscape.com.br/search?q=/lead?oid=...  \n",
       "1          Dafiti  https://www.buscape.com.br/search?q=/lead?oid=...  \n",
       "2  Magazine Luiza  https://www.buscape.com.br/search?q=/lead?oid=...  \n",
       "3          Dafiti  https://www.buscape.com.br/search?q=/lead?oid=...  \n",
       "4  Magazine Luiza  https://www.buscape.com.br/search?q=/lead?oid=...  \n",
       "5           Kanui  https://www.buscape.com.br/search?q=/lead?oid=...  "
      ]
     },
     "execution_count": 84,
     "metadata": {},
     "output_type": "execute_result"
    }
   ],
   "source": [
    "cotacao1"
   ]
  },
  {
   "cell_type": "code",
   "execution_count": 85,
   "id": "9477a614",
   "metadata": {},
   "outputs": [],
   "source": [
    "#Filtrando lojas repetidas\n",
    "cotacao1 = cotacao1.drop_duplicates(\"Loja\")"
   ]
  },
  {
   "cell_type": "code",
   "execution_count": 86,
   "id": "121fdc0c",
   "metadata": {},
   "outputs": [
    {
     "data": {
      "text/html": [
       "<div>\n",
       "<style scoped>\n",
       "    .dataframe tbody tr th:only-of-type {\n",
       "        vertical-align: middle;\n",
       "    }\n",
       "\n",
       "    .dataframe tbody tr th {\n",
       "        vertical-align: top;\n",
       "    }\n",
       "\n",
       "    .dataframe thead th {\n",
       "        text-align: right;\n",
       "    }\n",
       "</style>\n",
       "<table border=\"1\" class=\"dataframe\">\n",
       "  <thead>\n",
       "    <tr style=\"text-align: right;\">\n",
       "      <th></th>\n",
       "      <th>Titulo</th>\n",
       "      <th>Preco</th>\n",
       "      <th>Loja</th>\n",
       "      <th>Link</th>\n",
       "    </tr>\n",
       "  </thead>\n",
       "  <tbody>\n",
       "    <tr>\n",
       "      <th>0</th>\n",
       "      <td>Tênis Adidas Energy Falcon Masculino</td>\n",
       "      <td>R$ 189,99</td>\n",
       "      <td>Magazine Luiza</td>\n",
       "      <td>https://www.buscape.com.br/search?q=/lead?oid=...</td>\n",
       "    </tr>\n",
       "    <tr>\n",
       "      <th>1</th>\n",
       "      <td>Tênis Adidas Superstar Preto  unissex</td>\n",
       "      <td>R$ 349,90</td>\n",
       "      <td>Dafiti</td>\n",
       "      <td>https://www.buscape.com.br/search?q=/lead?oid=...</td>\n",
       "    </tr>\n",
       "    <tr>\n",
       "      <th>5</th>\n",
       "      <td>Tênis adidas Originals Superstar Preto/Branco ...</td>\n",
       "      <td>R$ 369,99</td>\n",
       "      <td>Kanui</td>\n",
       "      <td>https://www.buscape.com.br/search?q=/lead?oid=...</td>\n",
       "    </tr>\n",
       "  </tbody>\n",
       "</table>\n",
       "</div>"
      ],
      "text/plain": [
       "                                              Titulo      Preco  \\\n",
       "0               Tênis Adidas Energy Falcon Masculino  R$ 189,99   \n",
       "1              Tênis Adidas Superstar Preto  unissex  R$ 349,90   \n",
       "5  Tênis adidas Originals Superstar Preto/Branco ...  R$ 369,99   \n",
       "\n",
       "             Loja                                               Link  \n",
       "0  Magazine Luiza  https://www.buscape.com.br/search?q=/lead?oid=...  \n",
       "1          Dafiti  https://www.buscape.com.br/search?q=/lead?oid=...  \n",
       "5           Kanui  https://www.buscape.com.br/search?q=/lead?oid=...  "
      ]
     },
     "execution_count": 86,
     "metadata": {},
     "output_type": "execute_result"
    }
   ],
   "source": [
    "cotacao1"
   ]
  },
  {
   "cell_type": "code",
   "execution_count": null,
   "id": "6061f9d1",
   "metadata": {},
   "outputs": [],
   "source": []
  },
  {
   "cell_type": "code",
   "execution_count": 87,
   "id": "a3b383a9",
   "metadata": {},
   "outputs": [
    {
     "data": {
      "text/plain": [
       "<BarContainer object of 3 artists>"
      ]
     },
     "execution_count": 87,
     "metadata": {},
     "output_type": "execute_result"
    },
    {
     "data": {
      "image/png": "[encoded data removed]",
      "text/plain": [
       "<Figure size 432x288 with 1 Axes>"
      ]
     },
     "metadata": {
      "needs_background": "light"
     },
     "output_type": "display_data"
    }
   ],
   "source": [
    "plt.bar(cotacao1.Loja,cotacao1.Preco, color='blue')\n"
   ]
  },
  {
   "cell_type": "code",
   "execution_count": 88,
   "id": "828dd858",
   "metadata": {},
   "outputs": [],
   "source": [
    "Lojas = cotacao1.Loja\n"
   ]
  },
  {
   "cell_type": "code",
   "execution_count": 89,
   "id": "b94b3810",
   "metadata": {},
   "outputs": [
    {
     "name": "stdout",
     "output_type": "stream",
     "text": [
      "Foi realizada pesquisa entre as lojas: \n"
     ]
    },
    {
     "data": {
      "text/plain": [
       "0    Magazine Luiza\n",
       "1            Dafiti\n",
       "5             Kanui\n",
       "Name: Loja, dtype: object"
      ]
     },
     "execution_count": 89,
     "metadata": {},
     "output_type": "execute_result"
    }
   ],
   "source": [
    "print('Foi realizada pesquisa entre as lojas: ')\n",
    "Lojas"
   ]
  },
  {
   "cell_type": "code",
   "execution_count": 90,
   "id": "4fbaa580",
   "metadata": {},
   "outputs": [],
   "source": [
    "pmax = cotacao1['Preco'].max()\n",
    "pmin = cotacao1['Preco'].min()"
   ]
  },
  {
   "cell_type": "code",
   "execution_count": 91,
   "id": "d4ce61cb",
   "metadata": {},
   "outputs": [
    {
     "data": {
      "text/plain": [
       "'R$ 369,99'"
      ]
     },
     "execution_count": 91,
     "metadata": {},
     "output_type": "execute_result"
    }
   ],
   "source": [
    "pmax"
   ]
  },
  {
   "cell_type": "code",
   "execution_count": 92,
   "id": "fa236887",
   "metadata": {},
   "outputs": [],
   "source": [
    "\n",
    "pmax =cotacao1[cotacao1['Preco']==cotacao1['Preco'].max()]"
   ]
  },
  {
   "cell_type": "code",
   "execution_count": 93,
   "id": "c0a1020d",
   "metadata": {},
   "outputs": [],
   "source": [
    "pmin =cotacao1[cotacao1['Preco']==cotacao1['Preco'].min()]"
   ]
  },
  {
   "cell_type": "code",
   "execution_count": 94,
   "id": "8611cbcd",
   "metadata": {},
   "outputs": [
    {
     "name": "stdout",
     "output_type": "stream",
     "text": [
      "O melhor preco esta na loja: \n"
     ]
    },
    {
     "data": {
      "text/html": [
       "<div>\n",
       "<style scoped>\n",
       "    .dataframe tbody tr th:only-of-type {\n",
       "        vertical-align: middle;\n",
       "    }\n",
       "\n",
       "    .dataframe tbody tr th {\n",
       "        vertical-align: top;\n",
       "    }\n",
       "\n",
       "    .dataframe thead th {\n",
       "        text-align: right;\n",
       "    }\n",
       "</style>\n",
       "<table border=\"1\" class=\"dataframe\">\n",
       "  <thead>\n",
       "    <tr style=\"text-align: right;\">\n",
       "      <th></th>\n",
       "      <th>Titulo</th>\n",
       "      <th>Preco</th>\n",
       "      <th>Loja</th>\n",
       "      <th>Link</th>\n",
       "    </tr>\n",
       "  </thead>\n",
       "  <tbody>\n",
       "    <tr>\n",
       "      <th>0</th>\n",
       "      <td>Tênis Adidas Energy Falcon Masculino</td>\n",
       "      <td>R$ 189,99</td>\n",
       "      <td>Magazine Luiza</td>\n",
       "      <td>https://www.buscape.com.br/search?q=/lead?oid=...</td>\n",
       "    </tr>\n",
       "  </tbody>\n",
       "</table>\n",
       "</div>"
      ],
      "text/plain": [
       "                                 Titulo      Preco            Loja  \\\n",
       "0  Tênis Adidas Energy Falcon Masculino  R$ 189,99  Magazine Luiza   \n",
       "\n",
       "                                                Link  \n",
       "0  https://www.buscape.com.br/search?q=/lead?oid=...  "
      ]
     },
     "execution_count": 94,
     "metadata": {},
     "output_type": "execute_result"
    }
   ],
   "source": [
    "print(\"O melhor preco esta na loja: \" )\n",
    "pmin"
   ]
  },
  {
   "cell_type": "code",
   "execution_count": 95,
   "id": "8326e990",
   "metadata": {},
   "outputs": [
    {
     "name": "stdout",
     "output_type": "stream",
     "text": [
      "O preço mais alto esta na loja: \n"
     ]
    },
    {
     "data": {
      "text/html": [
       "<div>\n",
       "<style scoped>\n",
       "    .dataframe tbody tr th:only-of-type {\n",
       "        vertical-align: middle;\n",
       "    }\n",
       "\n",
       "    .dataframe tbody tr th {\n",
       "        vertical-align: top;\n",
       "    }\n",
       "\n",
       "    .dataframe thead th {\n",
       "        text-align: right;\n",
       "    }\n",
       "</style>\n",
       "<table border=\"1\" class=\"dataframe\">\n",
       "  <thead>\n",
       "    <tr style=\"text-align: right;\">\n",
       "      <th></th>\n",
       "      <th>Titulo</th>\n",
       "      <th>Preco</th>\n",
       "      <th>Loja</th>\n",
       "      <th>Link</th>\n",
       "    </tr>\n",
       "  </thead>\n",
       "  <tbody>\n",
       "    <tr>\n",
       "      <th>5</th>\n",
       "      <td>Tênis adidas Originals Superstar Preto/Branco ...</td>\n",
       "      <td>R$ 369,99</td>\n",
       "      <td>Kanui</td>\n",
       "      <td>https://www.buscape.com.br/search?q=/lead?oid=...</td>\n",
       "    </tr>\n",
       "  </tbody>\n",
       "</table>\n",
       "</div>"
      ],
      "text/plain": [
       "                                              Titulo      Preco   Loja  \\\n",
       "5  Tênis adidas Originals Superstar Preto/Branco ...  R$ 369,99  Kanui   \n",
       "\n",
       "                                                Link  \n",
       "5  https://www.buscape.com.br/search?q=/lead?oid=...  "
      ]
     },
     "execution_count": 95,
     "metadata": {},
     "output_type": "execute_result"
    }
   ],
   "source": [
    "print(\"O preço mais alto esta na loja: \" )\n",
    "pmax"
   ]
  },
  {
   "cell_type": "code",
   "execution_count": 96,
   "id": "f29b44c1",
   "metadata": {},
   "outputs": [],
   "source": [
    "#plt.bar(pmin['Loja'],pmin['Preco'], color='blue')"
   ]
  },
  {
   "cell_type": "code",
   "execution_count": null,
   "id": "b722f498",
   "metadata": {},
   "outputs": [],
   "source": []
  },
  {
   "cell_type": "code",
   "execution_count": null,
   "id": "7a711145",
   "metadata": {},
   "outputs": [],
   "source": []
  }
 ],
 "metadata": {
  "kernelspec": {
   "display_name": "Python 3",
   "language": "python",
   "name": "python3"
  },
  "language_info": {
   "codemirror_mode": {
    "name": "ipython",
    "version": 3
   },
   "file_extension": ".py",
   "mimetype": "text/x-python",
   "name": "python",
   "nbconvert_exporter": "python",
   "pygments_lexer": "ipython3",
   "version": "3.8.8"
  }
 },
 "nbformat": 4,
 "nbformat_minor": 5
}
