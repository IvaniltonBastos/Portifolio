{
 "cells": [
  {
   "cell_type": "code",
   "execution_count": 42,
   "id": "c3272ea0",
   "metadata": {},
   "outputs": [],
   "source": [
    "import requests\n",
    "import pandas as pd\n",
    "from bs4 import BeautifulSoup"
   ]
  },
  {
   "cell_type": "code",
   "execution_count": 43,
   "id": "641ff1b0",
   "metadata": {},
   "outputs": [],
   "source": [
    "lista_produtos = []"
   ]
  },
  {
   "cell_type": "code",
   "execution_count": 44,
   "id": "4120fb58",
   "metadata": {},
   "outputs": [],
   "source": [
    "url_base = \"http://www.buscape.com.br\"\n",
    "url = \"https://www.buscape.com.br/search?q=\""
   ]
  },
  {
   "cell_type": "code",
   "execution_count": 45,
   "id": "4af13e59",
   "metadata": {},
   "outputs": [
    {
     "name": "stdout",
     "output_type": "stream",
     "text": [
      "Digite o produto a ser cotado: \n"
     ]
    }
   ],
   "source": [
    "produtos = input(\"Digite o produto a ser cotado: \")"
   ]
  },
  {
   "cell_type": "code",
   "execution_count": 46,
   "id": "5ec64067",
   "metadata": {},
   "outputs": [
    {
     "name": "stdout",
     "output_type": "stream",
     "text": [
      "https://www.buscape.com.br/search?q=\n"
     ]
    }
   ],
   "source": [
    "print (url+produtos)"
   ]
  },
  {
   "cell_type": "code",
   "execution_count": 47,
   "id": "2ca3ea58",
   "metadata": {},
   "outputs": [],
   "source": [
    "response = requests.get(url + produtos)"
   ]
  },
  {
   "cell_type": "code",
   "execution_count": 48,
   "id": "3249ed12",
   "metadata": {},
   "outputs": [],
   "source": [
    "site = BeautifulSoup(response.text, 'html.parser')"
   ]
  },
  {
   "cell_type": "code",
   "execution_count": 49,
   "id": "9daa7b3d",
   "metadata": {},
   "outputs": [],
   "source": [
    "#print(site.prettify())"
   ]
  },
  {
   "cell_type": "code",
   "execution_count": 50,
   "id": "4b6f9f4c",
   "metadata": {},
   "outputs": [],
   "source": [
    "produtos = site.findAll('div', attrs= {'class': 'card card--offer card--cpc'})"
   ]
  },
  {
   "cell_type": "code",
   "execution_count": null,
   "id": "a9b0259c",
   "metadata": {},
   "outputs": [],
   "source": []
  },
  {
   "cell_type": "code",
   "execution_count": null,
   "id": "8e617ca0",
   "metadata": {},
   "outputs": [],
   "source": []
  },
  {
   "cell_type": "code",
   "execution_count": 51,
   "id": "725fb971",
   "metadata": {},
   "outputs": [],
   "source": [
    "for produto in produtos:\n",
    "    titulo = produto.find('a', attrs= {'class': 'link'})\n",
    "    valoreal = produto.find('span', attrs= {'class': 'mainValue'})\n",
    "    valorcent = produto.find('span', attrs= {'class': 'centsValue'})\n",
    "   # link = url_base + link_produto\n",
    "    if(valorcent):\n",
    "        valor = valoreal.text + valorcent.text\n",
    "    else:\n",
    "        print(valoreal)\n",
    "        \n",
    "    loja = produto.find('a', attrs = {'class': 'merchantName'})\n",
    "    link_produto = produto.find('a', attrs = {'class': 'link'})\n",
    "    link_produto = link_produto['href']\n",
    "    lista_produtos.append([titulo.text,valor,loja.text,url+link_produto]) \n",
    "    \n",
    "  #  lista_produtos.append([titulo.text, valor, loja.text,link ])\n",
    "  #  cotacao = pd.Dataframe(lista_produtos, columns=['Titulo','Preço','Loja','link'])\n",
    "  #  print(titulo.text)\n",
    "  #  print(valor)\n",
    "  #  print(loja.text)\n",
    "  #  print(url_base + link_produto)\n",
    "  #  print('\\n\\n')"
   ]
  },
  {
   "cell_type": "code",
   "execution_count": 52,
   "id": "fc138eff",
   "metadata": {},
   "outputs": [],
   "source": [
    "cotacao = pd.DataFrame(lista_produtos, columns=['Titulo','Preco','Loja','Link'], )"
   ]
  },
  {
   "cell_type": "code",
   "execution_count": 53,
   "id": "a41849f0",
   "metadata": {},
   "outputs": [],
   "source": [
    "cotacao.to_csv('cotacao.csv', index=False)"
   ]
  },
  {
   "cell_type": "code",
   "execution_count": 54,
   "id": "535f648b",
   "metadata": {},
   "outputs": [],
   "source": [
    "\n",
    "cotacao1 = pd.read_csv('cotacao.csv', )"
   ]
  },
  {
   "cell_type": "code",
   "execution_count": 55,
   "id": "68055eff",
   "metadata": {},
   "outputs": [
    {
     "data": {
      "text/html": [
       "<div>\n",
       "<style scoped>\n",
       "    .dataframe tbody tr th:only-of-type {\n",
       "        vertical-align: middle;\n",
       "    }\n",
       "\n",
       "    .dataframe tbody tr th {\n",
       "        vertical-align: top;\n",
       "    }\n",
       "\n",
       "    .dataframe thead th {\n",
       "        text-align: right;\n",
       "    }\n",
       "</style>\n",
       "<table border=\"1\" class=\"dataframe\">\n",
       "  <thead>\n",
       "    <tr style=\"text-align: right;\">\n",
       "      <th></th>\n",
       "      <th>Titulo</th>\n",
       "      <th>Preco</th>\n",
       "      <th>Loja</th>\n",
       "      <th>Link</th>\n",
       "    </tr>\n",
       "  </thead>\n",
       "  <tbody>\n",
       "  </tbody>\n",
       "</table>\n",
       "</div>"
      ],
      "text/plain": [
       "Empty DataFrame\n",
       "Columns: [Titulo, Preco, Loja, Link]\n",
       "Index: []"
      ]
     },
     "execution_count": 55,
     "metadata": {},
     "output_type": "execute_result"
    }
   ],
   "source": [
    "cotacao1"
   ]
  },
  {
   "cell_type": "code",
   "execution_count": 56,
   "id": "9477a614",
   "metadata": {},
   "outputs": [],
   "source": [
    "cotacao1 = cotacao1.drop_duplicates(\"Loja\")"
   ]
  },
  {
   "cell_type": "code",
   "execution_count": 57,
   "id": "62f77c16",
   "metadata": {},
   "outputs": [
    {
     "data": {
      "text/html": [
       "<div>\n",
       "<style scoped>\n",
       "    .dataframe tbody tr th:only-of-type {\n",
       "        vertical-align: middle;\n",
       "    }\n",
       "\n",
       "    .dataframe tbody tr th {\n",
       "        vertical-align: top;\n",
       "    }\n",
       "\n",
       "    .dataframe thead th {\n",
       "        text-align: right;\n",
       "    }\n",
       "</style>\n",
       "<table border=\"1\" class=\"dataframe\">\n",
       "  <thead>\n",
       "    <tr style=\"text-align: right;\">\n",
       "      <th></th>\n",
       "      <th>Titulo</th>\n",
       "      <th>Preco</th>\n",
       "      <th>Loja</th>\n",
       "      <th>Link</th>\n",
       "    </tr>\n",
       "  </thead>\n",
       "  <tbody>\n",
       "  </tbody>\n",
       "</table>\n",
       "</div>"
      ],
      "text/plain": [
       "Empty DataFrame\n",
       "Columns: [Titulo, Preco, Loja, Link]\n",
       "Index: []"
      ]
     },
     "execution_count": 57,
     "metadata": {},
     "output_type": "execute_result"
    }
   ],
   "source": [
    "cotacao1"
   ]
  },
  {
   "cell_type": "code",
   "execution_count": 58,
   "id": "8f3862b2",
   "metadata": {},
   "outputs": [],
   "source": [
    "#  valoreal = site.find('span', attrs= {'class': 'mainValue'})\n",
    "#  valorcent = site.find('span', attrs= {'class': 'centsValue'})\n",
    "#  valor = valoreal.text + valorcent.text\n",
    "#  loja = site.find('a', attrs = {'class': 'merchantName'})\n",
    "#  link_produto = site.find('a', attrs = {'class': 'link'})\n",
    "#  link_produto = link_produto['href']\n",
    "#  print(titulo.text)\n",
    "#  print(valor)\n",
    "#  print(loja.text)\n",
    "#  print(url_base + link_produto)"
   ]
  },
  {
   "cell_type": "code",
   "execution_count": null,
   "id": "8c91645a",
   "metadata": {},
   "outputs": [],
   "source": []
  }
 ],
 "metadata": {
  "kernelspec": {
   "display_name": "Python 3",
   "language": "python",
   "name": "python3"
  },
  "language_info": {
   "codemirror_mode": {
    "name": "ipython",
    "version": 3
   },
   "file_extension": ".py",
   "mimetype": "text/x-python",
   "name": "python",
   "nbconvert_exporter": "python",
   "pygments_lexer": "ipython3",
   "version": "3.8.8"
  }
 },
 "nbformat": 4,
 "nbformat_minor": 5
}
