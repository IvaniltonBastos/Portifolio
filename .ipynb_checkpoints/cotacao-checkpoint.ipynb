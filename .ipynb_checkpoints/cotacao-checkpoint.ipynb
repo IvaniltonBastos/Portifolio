{
 "cells": [
  {
   "cell_type": "code",
   "execution_count": 116,
   "id": "c3272ea0",
   "metadata": {},
   "outputs": [],
   "source": [
    "import requests\n",
    "import pandas as pd\n",
    "import pandas_profiling\n",
    "from bs4 import BeautifulSoup\n",
    "import matplotlib.pyplot as plt"
   ]
  },
  {
   "cell_type": "code",
   "execution_count": 117,
   "id": "641ff1b0",
   "metadata": {},
   "outputs": [],
   "source": [
    "lista_produtos = []\n",
    "pesquisa = []"
   ]
  },
  {
   "cell_type": "code",
   "execution_count": 118,
   "id": "4120fb58",
   "metadata": {},
   "outputs": [],
   "source": [
    "url_base = \"http://www.buscape.com.br\"\n",
    "url = \"https://www.buscape.com.br/search?q=\""
   ]
  },
  {
   "cell_type": "code",
   "execution_count": 119,
   "id": "4af13e59",
   "metadata": {},
   "outputs": [
    {
     "name": "stdout",
     "output_type": "stream",
     "text": [
      "Digite o produto a ser cotado: Pneus Aro 14\"\n"
     ]
    }
   ],
   "source": [
    "itens = input(\"Quantos itens deseja cotar? \")\n",
    "pesquisa = input(\"Digite o produto a ser cotado: \")\n"
   ]
  },
  {
   "cell_type": "code",
   "execution_count": 120,
   "id": "5ec64067",
   "metadata": {},
   "outputs": [
    {
     "name": "stdout",
     "output_type": "stream",
     "text": [
      "https://www.buscape.com.br/search?q=Pneus Aro 14\"\n"
     ]
    }
   ],
   "source": [
    "print (url+pesquisa)"
   ]
  },
  {
   "cell_type": "code",
   "execution_count": 121,
   "id": "2ca3ea58",
   "metadata": {},
   "outputs": [],
   "source": [
    "response = requests.get(url + pesquisa)"
   ]
  },
  {
   "cell_type": "code",
   "execution_count": 122,
   "id": "3249ed12",
   "metadata": {},
   "outputs": [],
   "source": [
    "site = BeautifulSoup(response.text, 'html.parser')"
   ]
  },
  {
   "cell_type": "code",
   "execution_count": 123,
   "id": "9daa7b3d",
   "metadata": {},
   "outputs": [],
   "source": [
    "#print(site.prettify())"
   ]
  },
  {
   "cell_type": "code",
   "execution_count": 124,
   "id": "4b6f9f4c",
   "metadata": {},
   "outputs": [],
   "source": [
    "produtos = site.findAll('div', attrs= {'class': 'card card--offer card--cpc'})"
   ]
  },
  {
   "cell_type": "code",
   "execution_count": null,
   "id": "583ff07f",
   "metadata": {},
   "outputs": [],
   "source": []
  },
  {
   "cell_type": "code",
   "execution_count": 125,
   "id": "5f85bbbd",
   "metadata": {},
   "outputs": [],
   "source": [
    "loja1 = []"
   ]
  },
  {
   "cell_type": "code",
   "execution_count": 126,
   "id": "725fb971",
   "metadata": {},
   "outputs": [],
   "source": [
    "for produto in produtos:\n",
    "    titulo = produto.find('a', attrs= {'class': 'link'})\n",
    "    valoreal = produto.find('span', attrs= {'class': 'mainValue'})\n",
    "    valorcent = produto.find('span', attrs= {'class': 'centsValue'})\n",
    "   # link = url_base + link_produto\n",
    "    if(valorcent):\n",
    "        valor = valoreal.text + valorcent.text\n",
    "    else:\n",
    "        print(valoreal)\n",
    "        \n",
    "    loja = produto.find('a', attrs = {'class': 'merchantName'})\n",
    "    loja1 = produto.find('a', attrs = {'class': 'merchantName'})\n",
    "    link_produto = produto.find('a', attrs = {'class': 'link'})\n",
    "    link_produto = link_produto['href']\n",
    "    lista_produtos.append([titulo.text,valor,loja.text,url+link_produto]) \n",
    "    \n",
    "  #  lista_produtos.append([titulo.text, valor, loja.text,link ])\n",
    "  #  cotacao = pd.Dataframe(lista_produtos, columns=['Titulo','Preço','Loja','link'])\n",
    "  #  print(titulo.text)\n",
    "  #  print(valor)\n",
    "  #  print(loja.text)\n",
    "  #  print(url_base + link_produto)\n",
    "  #  print('\\n\\n')"
   ]
  },
  {
   "cell_type": "code",
   "execution_count": 127,
   "id": "fc138eff",
   "metadata": {},
   "outputs": [],
   "source": [
    "cotacao = pd.DataFrame(lista_produtos, columns=['Titulo','Preco','Loja','Link'], )"
   ]
  },
  {
   "cell_type": "code",
   "execution_count": 128,
   "id": "a41849f0",
   "metadata": {},
   "outputs": [],
   "source": [
    "cotacao.to_csv('cotacao.csv', index=False)"
   ]
  },
  {
   "cell_type": "code",
   "execution_count": 129,
   "id": "535f648b",
   "metadata": {},
   "outputs": [],
   "source": [
    "\n",
    "cotacao1 = pd.read_csv('cotacao.csv' )"
   ]
  },
  {
   "cell_type": "code",
   "execution_count": 130,
   "id": "68055eff",
   "metadata": {},
   "outputs": [
    {
     "data": {
      "text/html": [
       "<div>\n",
       "<style scoped>\n",
       "    .dataframe tbody tr th:only-of-type {\n",
       "        vertical-align: middle;\n",
       "    }\n",
       "\n",
       "    .dataframe tbody tr th {\n",
       "        vertical-align: top;\n",
       "    }\n",
       "\n",
       "    .dataframe thead th {\n",
       "        text-align: right;\n",
       "    }\n",
       "</style>\n",
       "<table border=\"1\" class=\"dataframe\">\n",
       "  <thead>\n",
       "    <tr style=\"text-align: right;\">\n",
       "      <th></th>\n",
       "      <th>Titulo</th>\n",
       "      <th>Preco</th>\n",
       "      <th>Loja</th>\n",
       "      <th>Link</th>\n",
       "    </tr>\n",
       "  </thead>\n",
       "  <tbody>\n",
       "    <tr>\n",
       "      <th>0</th>\n",
       "      <td>Pneu Ling Long Aro 14\" 175/80 R14 88t - Crossw...</td>\n",
       "      <td>R$ 442,88</td>\n",
       "      <td>Americanas</td>\n",
       "      <td>https://www.buscape.com.br/search?q=/lead?oid=...</td>\n",
       "    </tr>\n",
       "    <tr>\n",
       "      <th>1</th>\n",
       "      <td>Pneu RoadCruza Aro 14\" 175/80 R14 92T XL AT RA...</td>\n",
       "      <td>R$ 630,49</td>\n",
       "      <td>Americanas</td>\n",
       "      <td>https://www.buscape.com.br/search?q=/lead?oid=...</td>\n",
       "    </tr>\n",
       "    <tr>\n",
       "      <th>2</th>\n",
       "      <td>Pneu Hifly Aro 14&amp;quot; 175/80 R14 88T - HF201</td>\n",
       "      <td>R$ 389,85</td>\n",
       "      <td>Casas Bahia</td>\n",
       "      <td>https://www.buscape.com.br/search?q=/lead?oid=...</td>\n",
       "    </tr>\n",
       "    <tr>\n",
       "      <th>3</th>\n",
       "      <td>Pneu RoadCruza Aro 14&amp;quot; 175/80 R14 92T XL ...</td>\n",
       "      <td>R$ 630,49</td>\n",
       "      <td>Casas Bahia</td>\n",
       "      <td>https://www.buscape.com.br/search?q=/lead?oid=...</td>\n",
       "    </tr>\n",
       "    <tr>\n",
       "      <th>4</th>\n",
       "      <td>Pneu Maxxis Aro 14&amp;quot; 29X11 R14 70M M918 BI...</td>\n",
       "      <td>R$ 2.164,86</td>\n",
       "      <td>Casas Bahia</td>\n",
       "      <td>https://www.buscape.com.br/search?q=/lead?oid=...</td>\n",
       "    </tr>\n",
       "    <tr>\n",
       "      <th>5</th>\n",
       "      <td>Pneu Hankook Aro 14\" 165/60 R14 - K425 Kinergy...</td>\n",
       "      <td>R$ 385,00</td>\n",
       "      <td>Amazon</td>\n",
       "      <td>https://www.buscape.com.br/search?q=/lead?oid=...</td>\n",
       "    </tr>\n",
       "    <tr>\n",
       "      <th>6</th>\n",
       "      <td>Pneu Triangle Aro 14\" 195 R14 106/104R Carga 8...</td>\n",
       "      <td>R$ 600,79</td>\n",
       "      <td>Americanas</td>\n",
       "      <td>https://www.buscape.com.br/search?q=/lead?oid=...</td>\n",
       "    </tr>\n",
       "    <tr>\n",
       "      <th>7</th>\n",
       "      <td>Pneu Triangle Aro 14\" 195/70 R14 95H TR928</td>\n",
       "      <td>R$ 597,38</td>\n",
       "      <td>Americanas</td>\n",
       "      <td>https://www.buscape.com.br/search?q=/lead?oid=...</td>\n",
       "    </tr>\n",
       "    <tr>\n",
       "      <th>8</th>\n",
       "      <td>Pneu KAMA Aro 14\" 185/70 R14 88T BREEZE</td>\n",
       "      <td>R$ 450,30</td>\n",
       "      <td>Americanas</td>\n",
       "      <td>https://www.buscape.com.br/search?q=/lead?oid=...</td>\n",
       "    </tr>\n",
       "    <tr>\n",
       "      <th>9</th>\n",
       "      <td>Pneu Continental Aro 14\" 175/65 R14 82T Semper...</td>\n",
       "      <td>R$ 396,72</td>\n",
       "      <td>Americanas</td>\n",
       "      <td>https://www.buscape.com.br/search?q=/lead?oid=...</td>\n",
       "    </tr>\n",
       "    <tr>\n",
       "      <th>10</th>\n",
       "      <td>Pneu Hifly Aro 14&amp;quot; 175/80 R14 88T - HF201</td>\n",
       "      <td>R$ 389,85</td>\n",
       "      <td>Pontofrio</td>\n",
       "      <td>https://www.buscape.com.br/search?q=/lead?oid=...</td>\n",
       "    </tr>\n",
       "    <tr>\n",
       "      <th>11</th>\n",
       "      <td>Pneu Michelin Aro 14&amp;quot; 175/70 R14 88T - TL...</td>\n",
       "      <td>R$ 649,81</td>\n",
       "      <td>Casas Bahia</td>\n",
       "      <td>https://www.buscape.com.br/search?q=/lead?oid=...</td>\n",
       "    </tr>\n",
       "    <tr>\n",
       "      <th>12</th>\n",
       "      <td>Pneu Vitour Aro 14\" 205/70 R14 95H Galaxy R1 -...</td>\n",
       "      <td>R$ 615,34</td>\n",
       "      <td>Americanas</td>\n",
       "      <td>https://www.buscape.com.br/search?q=/lead?oid=...</td>\n",
       "    </tr>\n",
       "    <tr>\n",
       "      <th>13</th>\n",
       "      <td>Pneu Winrun Aro 14&amp;quot; 175/70 R14 88H Maxcla...</td>\n",
       "      <td>R$ 489,06</td>\n",
       "      <td>Pontofrio</td>\n",
       "      <td>https://www.buscape.com.br/search?q=/lead?oid=...</td>\n",
       "    </tr>\n",
       "    <tr>\n",
       "      <th>14</th>\n",
       "      <td>Pneu Crosswind Aro 14&amp;quot; 175/80 R14 88T At</td>\n",
       "      <td>R$ 612,25</td>\n",
       "      <td>Extra</td>\n",
       "      <td>https://www.buscape.com.br/search?q=/lead?oid=...</td>\n",
       "    </tr>\n",
       "    <tr>\n",
       "      <th>15</th>\n",
       "      <td>Pneu RoadCruza Aro 14&amp;quot; 175/80 R14 92T XL ...</td>\n",
       "      <td>R$ 630,49</td>\n",
       "      <td>Pontofrio</td>\n",
       "      <td>https://www.buscape.com.br/search?q=/lead?oid=...</td>\n",
       "    </tr>\n",
       "    <tr>\n",
       "      <th>16</th>\n",
       "      <td>Pneu Triangle Aro 14\" 175/70 R14 95/93S Carga ...</td>\n",
       "      <td>R$ 517,58</td>\n",
       "      <td>Americanas</td>\n",
       "      <td>https://www.buscape.com.br/search?q=/lead?oid=...</td>\n",
       "    </tr>\n",
       "    <tr>\n",
       "      <th>17</th>\n",
       "      <td>Pneu KAMA Aro 14&amp;quot; 185/70 R14 88T BREEZE</td>\n",
       "      <td>R$ 446,35</td>\n",
       "      <td>Casas Bahia</td>\n",
       "      <td>https://www.buscape.com.br/search?q=/lead?oid=...</td>\n",
       "    </tr>\n",
       "    <tr>\n",
       "      <th>18</th>\n",
       "      <td>Pneu KAMA Aro 14&amp;quot; 185/65 R14 86H BREEZE</td>\n",
       "      <td>R$ 426,36</td>\n",
       "      <td>Casas Bahia</td>\n",
       "      <td>https://www.buscape.com.br/search?q=/lead?oid=...</td>\n",
       "    </tr>\n",
       "    <tr>\n",
       "      <th>19</th>\n",
       "      <td>Pneu JK Tyre Aro 14&amp;quot; 185/70 R14 - 88T - V...</td>\n",
       "      <td>R$ 469,81</td>\n",
       "      <td>Casas Bahia</td>\n",
       "      <td>https://www.buscape.com.br/search?q=/lead?oid=...</td>\n",
       "    </tr>\n",
       "    <tr>\n",
       "      <th>20</th>\n",
       "      <td>Pneu Hankook Aro 14\" 195/70 R14 91T - H735</td>\n",
       "      <td>R$ 580,00</td>\n",
       "      <td>Americanas</td>\n",
       "      <td>https://www.buscape.com.br/search?q=/lead?oid=...</td>\n",
       "    </tr>\n",
       "    <tr>\n",
       "      <th>21</th>\n",
       "      <td>Pneu Triangle Aro 14&amp;quot; 185/60 R14 82H - TE301</td>\n",
       "      <td>R$ 416,98</td>\n",
       "      <td>Casas Bahia</td>\n",
       "      <td>https://www.buscape.com.br/search?q=/lead?oid=...</td>\n",
       "    </tr>\n",
       "    <tr>\n",
       "      <th>22</th>\n",
       "      <td>Pneu KAMA Aro 14&amp;quot; 175/70 R14 84T BREEZE</td>\n",
       "      <td>R$ 397,86</td>\n",
       "      <td>Casas Bahia</td>\n",
       "      <td>https://www.buscape.com.br/search?q=/lead?oid=...</td>\n",
       "    </tr>\n",
       "  </tbody>\n",
       "</table>\n",
       "</div>"
      ],
      "text/plain": [
       "                                               Titulo        Preco  \\\n",
       "0   Pneu Ling Long Aro 14\" 175/80 R14 88t - Crossw...    R$ 442,88   \n",
       "1   Pneu RoadCruza Aro 14\" 175/80 R14 92T XL AT RA...    R$ 630,49   \n",
       "2      Pneu Hifly Aro 14&quot; 175/80 R14 88T - HF201    R$ 389,85   \n",
       "3   Pneu RoadCruza Aro 14&quot; 175/80 R14 92T XL ...    R$ 630,49   \n",
       "4   Pneu Maxxis Aro 14&quot; 29X11 R14 70M M918 BI...  R$ 2.164,86   \n",
       "5   Pneu Hankook Aro 14\" 165/60 R14 - K425 Kinergy...    R$ 385,00   \n",
       "6   Pneu Triangle Aro 14\" 195 R14 106/104R Carga 8...    R$ 600,79   \n",
       "7          Pneu Triangle Aro 14\" 195/70 R14 95H TR928    R$ 597,38   \n",
       "8             Pneu KAMA Aro 14\" 185/70 R14 88T BREEZE    R$ 450,30   \n",
       "9   Pneu Continental Aro 14\" 175/65 R14 82T Semper...    R$ 396,72   \n",
       "10     Pneu Hifly Aro 14&quot; 175/80 R14 88T - HF201    R$ 389,85   \n",
       "11  Pneu Michelin Aro 14&quot; 175/70 R14 88T - TL...    R$ 649,81   \n",
       "12  Pneu Vitour Aro 14\" 205/70 R14 95H Galaxy R1 -...    R$ 615,34   \n",
       "13  Pneu Winrun Aro 14&quot; 175/70 R14 88H Maxcla...    R$ 489,06   \n",
       "14     Pneu Crosswind Aro 14&quot; 175/80 R14 88T At     R$ 612,25   \n",
       "15  Pneu RoadCruza Aro 14&quot; 175/80 R14 92T XL ...    R$ 630,49   \n",
       "16  Pneu Triangle Aro 14\" 175/70 R14 95/93S Carga ...    R$ 517,58   \n",
       "17       Pneu KAMA Aro 14&quot; 185/70 R14 88T BREEZE    R$ 446,35   \n",
       "18       Pneu KAMA Aro 14&quot; 185/65 R14 86H BREEZE    R$ 426,36   \n",
       "19  Pneu JK Tyre Aro 14&quot; 185/70 R14 - 88T - V...    R$ 469,81   \n",
       "20         Pneu Hankook Aro 14\" 195/70 R14 91T - H735    R$ 580,00   \n",
       "21  Pneu Triangle Aro 14&quot; 185/60 R14 82H - TE301    R$ 416,98   \n",
       "22       Pneu KAMA Aro 14&quot; 175/70 R14 84T BREEZE    R$ 397,86   \n",
       "\n",
       "           Loja                                               Link  \n",
       "0    Americanas  https://www.buscape.com.br/search?q=/lead?oid=...  \n",
       "1    Americanas  https://www.buscape.com.br/search?q=/lead?oid=...  \n",
       "2   Casas Bahia  https://www.buscape.com.br/search?q=/lead?oid=...  \n",
       "3   Casas Bahia  https://www.buscape.com.br/search?q=/lead?oid=...  \n",
       "4   Casas Bahia  https://www.buscape.com.br/search?q=/lead?oid=...  \n",
       "5        Amazon  https://www.buscape.com.br/search?q=/lead?oid=...  \n",
       "6    Americanas  https://www.buscape.com.br/search?q=/lead?oid=...  \n",
       "7    Americanas  https://www.buscape.com.br/search?q=/lead?oid=...  \n",
       "8    Americanas  https://www.buscape.com.br/search?q=/lead?oid=...  \n",
       "9    Americanas  https://www.buscape.com.br/search?q=/lead?oid=...  \n",
       "10    Pontofrio  https://www.buscape.com.br/search?q=/lead?oid=...  \n",
       "11  Casas Bahia  https://www.buscape.com.br/search?q=/lead?oid=...  \n",
       "12   Americanas  https://www.buscape.com.br/search?q=/lead?oid=...  \n",
       "13    Pontofrio  https://www.buscape.com.br/search?q=/lead?oid=...  \n",
       "14        Extra  https://www.buscape.com.br/search?q=/lead?oid=...  \n",
       "15    Pontofrio  https://www.buscape.com.br/search?q=/lead?oid=...  \n",
       "16   Americanas  https://www.buscape.com.br/search?q=/lead?oid=...  \n",
       "17  Casas Bahia  https://www.buscape.com.br/search?q=/lead?oid=...  \n",
       "18  Casas Bahia  https://www.buscape.com.br/search?q=/lead?oid=...  \n",
       "19  Casas Bahia  https://www.buscape.com.br/search?q=/lead?oid=...  \n",
       "20   Americanas  https://www.buscape.com.br/search?q=/lead?oid=...  \n",
       "21  Casas Bahia  https://www.buscape.com.br/search?q=/lead?oid=...  \n",
       "22  Casas Bahia  https://www.buscape.com.br/search?q=/lead?oid=...  "
      ]
     },
     "execution_count": 130,
     "metadata": {},
     "output_type": "execute_result"
    }
   ],
   "source": [
    "cotacao1"
   ]
  },
  {
   "cell_type": "code",
   "execution_count": 131,
   "id": "9477a614",
   "metadata": {},
   "outputs": [],
   "source": [
    "cotacao1 = cotacao1.drop_duplicates(\"Loja\")"
   ]
  },
  {
   "cell_type": "code",
   "execution_count": 132,
   "id": "6624dcb1",
   "metadata": {},
   "outputs": [
    {
     "data": {
      "text/html": [
       "<div>\n",
       "<style scoped>\n",
       "    .dataframe tbody tr th:only-of-type {\n",
       "        vertical-align: middle;\n",
       "    }\n",
       "\n",
       "    .dataframe tbody tr th {\n",
       "        vertical-align: top;\n",
       "    }\n",
       "\n",
       "    .dataframe thead th {\n",
       "        text-align: right;\n",
       "    }\n",
       "</style>\n",
       "<table border=\"1\" class=\"dataframe\">\n",
       "  <thead>\n",
       "    <tr style=\"text-align: right;\">\n",
       "      <th></th>\n",
       "      <th>Titulo</th>\n",
       "      <th>Preco</th>\n",
       "      <th>Loja</th>\n",
       "      <th>Link</th>\n",
       "    </tr>\n",
       "  </thead>\n",
       "  <tbody>\n",
       "  </tbody>\n",
       "</table>\n",
       "</div>"
      ],
      "text/plain": [
       "Empty DataFrame\n",
       "Columns: [Titulo, Preco, Loja, Link]\n",
       "Index: []"
      ]
     },
     "execution_count": 132,
     "metadata": {},
     "output_type": "execute_result"
    }
   ],
   "source": [
    " cotacao1.filter(like=pesquisa, axis=0)"
   ]
  },
  {
   "cell_type": "code",
   "execution_count": 133,
   "id": "8c91645a",
   "metadata": {},
   "outputs": [
    {
     "data": {
      "text/html": [
       "<div>\n",
       "<style scoped>\n",
       "    .dataframe tbody tr th:only-of-type {\n",
       "        vertical-align: middle;\n",
       "    }\n",
       "\n",
       "    .dataframe tbody tr th {\n",
       "        vertical-align: top;\n",
       "    }\n",
       "\n",
       "    .dataframe thead th {\n",
       "        text-align: right;\n",
       "    }\n",
       "</style>\n",
       "<table border=\"1\" class=\"dataframe\">\n",
       "  <thead>\n",
       "    <tr style=\"text-align: right;\">\n",
       "      <th></th>\n",
       "      <th>Titulo</th>\n",
       "      <th>Preco</th>\n",
       "      <th>Loja</th>\n",
       "      <th>Link</th>\n",
       "    </tr>\n",
       "  </thead>\n",
       "  <tbody>\n",
       "  </tbody>\n",
       "</table>\n",
       "</div>"
      ],
      "text/plain": [
       "Empty DataFrame\n",
       "Columns: [Titulo, Preco, Loja, Link]\n",
       "Index: []"
      ]
     },
     "execution_count": 133,
     "metadata": {},
     "output_type": "execute_result"
    }
   ],
   "source": [
    "cotacao1[cotacao1.Titulo.str.contains(pesquisa, regex=True)]"
   ]
  },
  {
   "cell_type": "code",
   "execution_count": 134,
   "id": "8bd8bb2c",
   "metadata": {},
   "outputs": [],
   "source": [
    "cotacao1 = cotacao1.sort_values(by='Preco')"
   ]
  },
  {
   "cell_type": "code",
   "execution_count": 135,
   "id": "121fdc0c",
   "metadata": {},
   "outputs": [
    {
     "data": {
      "text/html": [
       "<div>\n",
       "<style scoped>\n",
       "    .dataframe tbody tr th:only-of-type {\n",
       "        vertical-align: middle;\n",
       "    }\n",
       "\n",
       "    .dataframe tbody tr th {\n",
       "        vertical-align: top;\n",
       "    }\n",
       "\n",
       "    .dataframe thead th {\n",
       "        text-align: right;\n",
       "    }\n",
       "</style>\n",
       "<table border=\"1\" class=\"dataframe\">\n",
       "  <thead>\n",
       "    <tr style=\"text-align: right;\">\n",
       "      <th></th>\n",
       "      <th>Titulo</th>\n",
       "      <th>Preco</th>\n",
       "      <th>Loja</th>\n",
       "      <th>Link</th>\n",
       "    </tr>\n",
       "  </thead>\n",
       "  <tbody>\n",
       "    <tr>\n",
       "      <th>5</th>\n",
       "      <td>Pneu Hankook Aro 14\" 165/60 R14 - K425 Kinergy...</td>\n",
       "      <td>R$ 385,00</td>\n",
       "      <td>Amazon</td>\n",
       "      <td>https://www.buscape.com.br/search?q=/lead?oid=...</td>\n",
       "    </tr>\n",
       "    <tr>\n",
       "      <th>2</th>\n",
       "      <td>Pneu Hifly Aro 14&amp;quot; 175/80 R14 88T - HF201</td>\n",
       "      <td>R$ 389,85</td>\n",
       "      <td>Casas Bahia</td>\n",
       "      <td>https://www.buscape.com.br/search?q=/lead?oid=...</td>\n",
       "    </tr>\n",
       "    <tr>\n",
       "      <th>10</th>\n",
       "      <td>Pneu Hifly Aro 14&amp;quot; 175/80 R14 88T - HF201</td>\n",
       "      <td>R$ 389,85</td>\n",
       "      <td>Pontofrio</td>\n",
       "      <td>https://www.buscape.com.br/search?q=/lead?oid=...</td>\n",
       "    </tr>\n",
       "    <tr>\n",
       "      <th>0</th>\n",
       "      <td>Pneu Ling Long Aro 14\" 175/80 R14 88t - Crossw...</td>\n",
       "      <td>R$ 442,88</td>\n",
       "      <td>Americanas</td>\n",
       "      <td>https://www.buscape.com.br/search?q=/lead?oid=...</td>\n",
       "    </tr>\n",
       "    <tr>\n",
       "      <th>14</th>\n",
       "      <td>Pneu Crosswind Aro 14&amp;quot; 175/80 R14 88T At</td>\n",
       "      <td>R$ 612,25</td>\n",
       "      <td>Extra</td>\n",
       "      <td>https://www.buscape.com.br/search?q=/lead?oid=...</td>\n",
       "    </tr>\n",
       "  </tbody>\n",
       "</table>\n",
       "</div>"
      ],
      "text/plain": [
       "                                               Titulo      Preco         Loja  \\\n",
       "5   Pneu Hankook Aro 14\" 165/60 R14 - K425 Kinergy...  R$ 385,00       Amazon   \n",
       "2      Pneu Hifly Aro 14&quot; 175/80 R14 88T - HF201  R$ 389,85  Casas Bahia   \n",
       "10     Pneu Hifly Aro 14&quot; 175/80 R14 88T - HF201  R$ 389,85    Pontofrio   \n",
       "0   Pneu Ling Long Aro 14\" 175/80 R14 88t - Crossw...  R$ 442,88   Americanas   \n",
       "14     Pneu Crosswind Aro 14&quot; 175/80 R14 88T At   R$ 612,25        Extra   \n",
       "\n",
       "                                                 Link  \n",
       "5   https://www.buscape.com.br/search?q=/lead?oid=...  \n",
       "2   https://www.buscape.com.br/search?q=/lead?oid=...  \n",
       "10  https://www.buscape.com.br/search?q=/lead?oid=...  \n",
       "0   https://www.buscape.com.br/search?q=/lead?oid=...  \n",
       "14  https://www.buscape.com.br/search?q=/lead?oid=...  "
      ]
     },
     "execution_count": 135,
     "metadata": {},
     "output_type": "execute_result"
    }
   ],
   "source": [
    "cotacao1"
   ]
  },
  {
   "cell_type": "code",
   "execution_count": 136,
   "id": "6061f9d1",
   "metadata": {},
   "outputs": [],
   "source": [
    "#pandas_profiling.ProfileReport(cotacao1)"
   ]
  },
  {
   "cell_type": "code",
   "execution_count": 137,
   "id": "a3b383a9",
   "metadata": {},
   "outputs": [
    {
     "data": {
      "text/plain": [
       "<BarContainer object of 5 artists>"
      ]
     },
     "execution_count": 137,
     "metadata": {},
     "output_type": "execute_result"
    },
    {
     "data": {
      "image/png": "[encoded data removed]",
      "text/plain": [
       "<Figure size 432x288 with 1 Axes>"
      ]
     },
     "metadata": {
      "needs_background": "light"
     },
     "output_type": "display_data"
    }
   ],
   "source": [
    "plt.bar(cotacao1.Loja,cotacao1.Preco, color='blue')\n"
   ]
  },
  {
   "cell_type": "code",
   "execution_count": 139,
   "id": "828dd858",
   "metadata": {},
   "outputs": [],
   "source": [
    "Lojas = cotacao1.Loja\n"
   ]
  },
  {
   "cell_type": "code",
   "execution_count": 140,
   "id": "b94b3810",
   "metadata": {},
   "outputs": [
    {
     "name": "stdout",
     "output_type": "stream",
     "text": [
      "Foi realizada pesquisa entre as lojas: \n"
     ]
    },
    {
     "data": {
      "text/plain": [
       "5          Amazon\n",
       "2     Casas Bahia\n",
       "10      Pontofrio\n",
       "0      Americanas\n",
       "14          Extra\n",
       "Name: Loja, dtype: object"
      ]
     },
     "execution_count": 140,
     "metadata": {},
     "output_type": "execute_result"
    }
   ],
   "source": [
    "print('Foi realizada pesquisa entre as lojas: ')\n",
    "Lojas"
   ]
  },
  {
   "cell_type": "code",
   "execution_count": 167,
   "id": "d094670f",
   "metadata": {},
   "outputs": [
    {
     "ename": "ValueError",
     "evalue": "could not convert string to float: 'R$ 385,00'",
     "output_type": "error",
     "traceback": [
      "\u001b[1;31m---------------------------------------------------------------------------\u001b[0m",
      "\u001b[1;31mValueError\u001b[0m                                Traceback (most recent call last)",
      "\u001b[1;32m<ipython-input-167-c11934da7ce7>\u001b[0m in \u001b[0;36m<module>\u001b[1;34m\u001b[0m\n\u001b[1;32m----> 1\u001b[1;33m \u001b[0mcotacao1\u001b[0m \u001b[1;33m=\u001b[0m \u001b[0mcotacao1\u001b[0m\u001b[1;33m.\u001b[0m\u001b[0mastype\u001b[0m\u001b[1;33m(\u001b[0m\u001b[1;33m{\u001b[0m\u001b[1;34m'Preco'\u001b[0m\u001b[1;33m:\u001b[0m \u001b[1;34m'float'\u001b[0m\u001b[1;33m}\u001b[0m\u001b[1;33m)\u001b[0m\u001b[1;33m.\u001b[0m\u001b[0mdtypes\u001b[0m\u001b[1;33m\u001b[0m\u001b[1;33m\u001b[0m\u001b[0m\n\u001b[0m",
      "\u001b[1;32m~\\anaconda4\\lib\\site-packages\\pandas\\core\\generic.py\u001b[0m in \u001b[0;36mastype\u001b[1;34m(self, dtype, copy, errors)\u001b[0m\n\u001b[0;32m   5860\u001b[0m                 \u001b[1;32mif\u001b[0m \u001b[0mcol_name\u001b[0m \u001b[1;32min\u001b[0m \u001b[0mdtype\u001b[0m\u001b[1;33m:\u001b[0m\u001b[1;33m\u001b[0m\u001b[1;33m\u001b[0m\u001b[0m\n\u001b[0;32m   5861\u001b[0m                     results.append(\n\u001b[1;32m-> 5862\u001b[1;33m                         \u001b[0mcol\u001b[0m\u001b[1;33m.\u001b[0m\u001b[0mastype\u001b[0m\u001b[1;33m(\u001b[0m\u001b[0mdtype\u001b[0m\u001b[1;33m=\u001b[0m\u001b[0mdtype\u001b[0m\u001b[1;33m[\u001b[0m\u001b[0mcol_name\u001b[0m\u001b[1;33m]\u001b[0m\u001b[1;33m,\u001b[0m \u001b[0mcopy\u001b[0m\u001b[1;33m=\u001b[0m\u001b[0mcopy\u001b[0m\u001b[1;33m,\u001b[0m \u001b[0merrors\u001b[0m\u001b[1;33m=\u001b[0m\u001b[0merrors\u001b[0m\u001b[1;33m)\u001b[0m\u001b[1;33m\u001b[0m\u001b[1;33m\u001b[0m\u001b[0m\n\u001b[0m\u001b[0;32m   5863\u001b[0m                     )\n\u001b[0;32m   5864\u001b[0m                 \u001b[1;32melse\u001b[0m\u001b[1;33m:\u001b[0m\u001b[1;33m\u001b[0m\u001b[1;33m\u001b[0m\u001b[0m\n",
      "\u001b[1;32m~\\anaconda4\\lib\\site-packages\\pandas\\core\\generic.py\u001b[0m in \u001b[0;36mastype\u001b[1;34m(self, dtype, copy, errors)\u001b[0m\n\u001b[0;32m   5875\u001b[0m         \u001b[1;32melse\u001b[0m\u001b[1;33m:\u001b[0m\u001b[1;33m\u001b[0m\u001b[1;33m\u001b[0m\u001b[0m\n\u001b[0;32m   5876\u001b[0m             \u001b[1;31m# else, only a single dtype is given\u001b[0m\u001b[1;33m\u001b[0m\u001b[1;33m\u001b[0m\u001b[1;33m\u001b[0m\u001b[0m\n\u001b[1;32m-> 5877\u001b[1;33m             \u001b[0mnew_data\u001b[0m \u001b[1;33m=\u001b[0m \u001b[0mself\u001b[0m\u001b[1;33m.\u001b[0m\u001b[0m_mgr\u001b[0m\u001b[1;33m.\u001b[0m\u001b[0mastype\u001b[0m\u001b[1;33m(\u001b[0m\u001b[0mdtype\u001b[0m\u001b[1;33m=\u001b[0m\u001b[0mdtype\u001b[0m\u001b[1;33m,\u001b[0m \u001b[0mcopy\u001b[0m\u001b[1;33m=\u001b[0m\u001b[0mcopy\u001b[0m\u001b[1;33m,\u001b[0m \u001b[0merrors\u001b[0m\u001b[1;33m=\u001b[0m\u001b[0merrors\u001b[0m\u001b[1;33m)\u001b[0m\u001b[1;33m\u001b[0m\u001b[1;33m\u001b[0m\u001b[0m\n\u001b[0m\u001b[0;32m   5878\u001b[0m             \u001b[1;32mreturn\u001b[0m \u001b[0mself\u001b[0m\u001b[1;33m.\u001b[0m\u001b[0m_constructor\u001b[0m\u001b[1;33m(\u001b[0m\u001b[0mnew_data\u001b[0m\u001b[1;33m)\u001b[0m\u001b[1;33m.\u001b[0m\u001b[0m__finalize__\u001b[0m\u001b[1;33m(\u001b[0m\u001b[0mself\u001b[0m\u001b[1;33m,\u001b[0m \u001b[0mmethod\u001b[0m\u001b[1;33m=\u001b[0m\u001b[1;34m\"astype\"\u001b[0m\u001b[1;33m)\u001b[0m\u001b[1;33m\u001b[0m\u001b[1;33m\u001b[0m\u001b[0m\n\u001b[0;32m   5879\u001b[0m \u001b[1;33m\u001b[0m\u001b[0m\n",
      "\u001b[1;32m~\\anaconda4\\lib\\site-packages\\pandas\\core\\internals\\managers.py\u001b[0m in \u001b[0;36mastype\u001b[1;34m(self, dtype, copy, errors)\u001b[0m\n\u001b[0;32m    629\u001b[0m         \u001b[0mself\u001b[0m\u001b[1;33m,\u001b[0m \u001b[0mdtype\u001b[0m\u001b[1;33m,\u001b[0m \u001b[0mcopy\u001b[0m\u001b[1;33m:\u001b[0m \u001b[0mbool\u001b[0m \u001b[1;33m=\u001b[0m \u001b[1;32mFalse\u001b[0m\u001b[1;33m,\u001b[0m \u001b[0merrors\u001b[0m\u001b[1;33m:\u001b[0m \u001b[0mstr\u001b[0m \u001b[1;33m=\u001b[0m \u001b[1;34m\"raise\"\u001b[0m\u001b[1;33m\u001b[0m\u001b[1;33m\u001b[0m\u001b[0m\n\u001b[0;32m    630\u001b[0m     ) -> \"BlockManager\":\n\u001b[1;32m--> 631\u001b[1;33m         \u001b[1;32mreturn\u001b[0m \u001b[0mself\u001b[0m\u001b[1;33m.\u001b[0m\u001b[0mapply\u001b[0m\u001b[1;33m(\u001b[0m\u001b[1;34m\"astype\"\u001b[0m\u001b[1;33m,\u001b[0m \u001b[0mdtype\u001b[0m\u001b[1;33m=\u001b[0m\u001b[0mdtype\u001b[0m\u001b[1;33m,\u001b[0m \u001b[0mcopy\u001b[0m\u001b[1;33m=\u001b[0m\u001b[0mcopy\u001b[0m\u001b[1;33m,\u001b[0m \u001b[0merrors\u001b[0m\u001b[1;33m=\u001b[0m\u001b[0merrors\u001b[0m\u001b[1;33m)\u001b[0m\u001b[1;33m\u001b[0m\u001b[1;33m\u001b[0m\u001b[0m\n\u001b[0m\u001b[0;32m    632\u001b[0m \u001b[1;33m\u001b[0m\u001b[0m\n\u001b[0;32m    633\u001b[0m     def convert(\n",
      "\u001b[1;32m~\\anaconda4\\lib\\site-packages\\pandas\\core\\internals\\managers.py\u001b[0m in \u001b[0;36mapply\u001b[1;34m(self, f, align_keys, ignore_failures, **kwargs)\u001b[0m\n\u001b[0;32m    425\u001b[0m                     \u001b[0mapplied\u001b[0m \u001b[1;33m=\u001b[0m \u001b[0mb\u001b[0m\u001b[1;33m.\u001b[0m\u001b[0mapply\u001b[0m\u001b[1;33m(\u001b[0m\u001b[0mf\u001b[0m\u001b[1;33m,\u001b[0m \u001b[1;33m**\u001b[0m\u001b[0mkwargs\u001b[0m\u001b[1;33m)\u001b[0m\u001b[1;33m\u001b[0m\u001b[1;33m\u001b[0m\u001b[0m\n\u001b[0;32m    426\u001b[0m                 \u001b[1;32melse\u001b[0m\u001b[1;33m:\u001b[0m\u001b[1;33m\u001b[0m\u001b[1;33m\u001b[0m\u001b[0m\n\u001b[1;32m--> 427\u001b[1;33m                     \u001b[0mapplied\u001b[0m \u001b[1;33m=\u001b[0m \u001b[0mgetattr\u001b[0m\u001b[1;33m(\u001b[0m\u001b[0mb\u001b[0m\u001b[1;33m,\u001b[0m \u001b[0mf\u001b[0m\u001b[1;33m)\u001b[0m\u001b[1;33m(\u001b[0m\u001b[1;33m**\u001b[0m\u001b[0mkwargs\u001b[0m\u001b[1;33m)\u001b[0m\u001b[1;33m\u001b[0m\u001b[1;33m\u001b[0m\u001b[0m\n\u001b[0m\u001b[0;32m    428\u001b[0m             \u001b[1;32mexcept\u001b[0m \u001b[1;33m(\u001b[0m\u001b[0mTypeError\u001b[0m\u001b[1;33m,\u001b[0m \u001b[0mNotImplementedError\u001b[0m\u001b[1;33m)\u001b[0m\u001b[1;33m:\u001b[0m\u001b[1;33m\u001b[0m\u001b[1;33m\u001b[0m\u001b[0m\n\u001b[0;32m    429\u001b[0m                 \u001b[1;32mif\u001b[0m \u001b[1;32mnot\u001b[0m \u001b[0mignore_failures\u001b[0m\u001b[1;33m:\u001b[0m\u001b[1;33m\u001b[0m\u001b[1;33m\u001b[0m\u001b[0m\n",
      "\u001b[1;32m~\\anaconda4\\lib\\site-packages\\pandas\\core\\internals\\blocks.py\u001b[0m in \u001b[0;36mastype\u001b[1;34m(self, dtype, copy, errors)\u001b[0m\n\u001b[0;32m    671\u001b[0m             \u001b[0mvals1d\u001b[0m \u001b[1;33m=\u001b[0m \u001b[0mvalues\u001b[0m\u001b[1;33m.\u001b[0m\u001b[0mravel\u001b[0m\u001b[1;33m(\u001b[0m\u001b[1;33m)\u001b[0m\u001b[1;33m\u001b[0m\u001b[1;33m\u001b[0m\u001b[0m\n\u001b[0;32m    672\u001b[0m             \u001b[1;32mtry\u001b[0m\u001b[1;33m:\u001b[0m\u001b[1;33m\u001b[0m\u001b[1;33m\u001b[0m\u001b[0m\n\u001b[1;32m--> 673\u001b[1;33m                 \u001b[0mvalues\u001b[0m \u001b[1;33m=\u001b[0m \u001b[0mastype_nansafe\u001b[0m\u001b[1;33m(\u001b[0m\u001b[0mvals1d\u001b[0m\u001b[1;33m,\u001b[0m \u001b[0mdtype\u001b[0m\u001b[1;33m,\u001b[0m \u001b[0mcopy\u001b[0m\u001b[1;33m=\u001b[0m\u001b[1;32mTrue\u001b[0m\u001b[1;33m)\u001b[0m\u001b[1;33m\u001b[0m\u001b[1;33m\u001b[0m\u001b[0m\n\u001b[0m\u001b[0;32m    674\u001b[0m             \u001b[1;32mexcept\u001b[0m \u001b[1;33m(\u001b[0m\u001b[0mValueError\u001b[0m\u001b[1;33m,\u001b[0m \u001b[0mTypeError\u001b[0m\u001b[1;33m)\u001b[0m\u001b[1;33m:\u001b[0m\u001b[1;33m\u001b[0m\u001b[1;33m\u001b[0m\u001b[0m\n\u001b[0;32m    675\u001b[0m                 \u001b[1;31m# e.g. astype_nansafe can fail on object-dtype of strings\u001b[0m\u001b[1;33m\u001b[0m\u001b[1;33m\u001b[0m\u001b[1;33m\u001b[0m\u001b[0m\n",
      "\u001b[1;32m~\\anaconda4\\lib\\site-packages\\pandas\\core\\dtypes\\cast.py\u001b[0m in \u001b[0;36mastype_nansafe\u001b[1;34m(arr, dtype, copy, skipna)\u001b[0m\n\u001b[0;32m   1095\u001b[0m     \u001b[1;32mif\u001b[0m \u001b[0mcopy\u001b[0m \u001b[1;32mor\u001b[0m \u001b[0mis_object_dtype\u001b[0m\u001b[1;33m(\u001b[0m\u001b[0marr\u001b[0m\u001b[1;33m)\u001b[0m \u001b[1;32mor\u001b[0m \u001b[0mis_object_dtype\u001b[0m\u001b[1;33m(\u001b[0m\u001b[0mdtype\u001b[0m\u001b[1;33m)\u001b[0m\u001b[1;33m:\u001b[0m\u001b[1;33m\u001b[0m\u001b[1;33m\u001b[0m\u001b[0m\n\u001b[0;32m   1096\u001b[0m         \u001b[1;31m# Explicit copy, or required since NumPy can't view from / to object.\u001b[0m\u001b[1;33m\u001b[0m\u001b[1;33m\u001b[0m\u001b[1;33m\u001b[0m\u001b[0m\n\u001b[1;32m-> 1097\u001b[1;33m         \u001b[1;32mreturn\u001b[0m \u001b[0marr\u001b[0m\u001b[1;33m.\u001b[0m\u001b[0mastype\u001b[0m\u001b[1;33m(\u001b[0m\u001b[0mdtype\u001b[0m\u001b[1;33m,\u001b[0m \u001b[0mcopy\u001b[0m\u001b[1;33m=\u001b[0m\u001b[1;32mTrue\u001b[0m\u001b[1;33m)\u001b[0m\u001b[1;33m\u001b[0m\u001b[1;33m\u001b[0m\u001b[0m\n\u001b[0m\u001b[0;32m   1098\u001b[0m \u001b[1;33m\u001b[0m\u001b[0m\n\u001b[0;32m   1099\u001b[0m     \u001b[1;32mreturn\u001b[0m \u001b[0marr\u001b[0m\u001b[1;33m.\u001b[0m\u001b[0mview\u001b[0m\u001b[1;33m(\u001b[0m\u001b[0mdtype\u001b[0m\u001b[1;33m)\u001b[0m\u001b[1;33m\u001b[0m\u001b[1;33m\u001b[0m\u001b[0m\n",
      "\u001b[1;31mValueError\u001b[0m: could not convert string to float: 'R$ 385,00'"
     ]
    }
   ],
   "source": [
    "cotacao1 = cotacao1.astype({'Preco': 'float'}).dtypes"
   ]
  },
  {
   "cell_type": "code",
   "execution_count": 168,
   "id": "04495700",
   "metadata": {},
   "outputs": [
    {
     "name": "stdout",
     "output_type": "stream",
     "text": [
      "<class 'pandas.core.frame.DataFrame'>\n",
      "Int64Index: 5 entries, 5 to 14\n",
      "Data columns (total 4 columns):\n",
      " #   Column  Non-Null Count  Dtype \n",
      "---  ------  --------------  ----- \n",
      " 0   Titulo  5 non-null      object\n",
      " 1   Preco   5 non-null      object\n",
      " 2   Loja    5 non-null      object\n",
      " 3   Link    5 non-null      object\n",
      "dtypes: object(4)\n",
      "memory usage: 200.0+ bytes\n"
     ]
    }
   ],
   "source": [
    "cotacao1.info()"
   ]
  },
  {
   "cell_type": "code",
   "execution_count": null,
   "id": "42bc413c",
   "metadata": {},
   "outputs": [],
   "source": []
  },
  {
   "cell_type": "code",
   "execution_count": null,
   "id": "4fbaa580",
   "metadata": {},
   "outputs": [],
   "source": []
  }
 ],
 "metadata": {
  "kernelspec": {
   "display_name": "Python 3",
   "language": "python",
   "name": "python3"
  },
  "language_info": {
   "codemirror_mode": {
    "name": "ipython",
    "version": 3
   },
   "file_extension": ".py",
   "mimetype": "text/x-python",
   "name": "python",
   "nbconvert_exporter": "python",
   "pygments_lexer": "ipython3",
   "version": "3.8.8"
  }
 },
 "nbformat": 4,
 "nbformat_minor": 5
}
