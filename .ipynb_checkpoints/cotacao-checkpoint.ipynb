{
 "cells": [
  {
   "cell_type": "markdown",
   "id": "21f9ba32",
   "metadata": {},
   "source": [
    "# Sistemas de cotação de Preços\n",
    "\n",
    "Este projeto visa facilitar as tarefas de cotações de preços na internet.\n",
    "Através de técnicas de WebScaraping,foram automatizados alguns processos repetitivos de coleta de informações.\n",
    "O objetivo é pesquisar os itens em diversas lojas através do site buscapé e retornar \n",
    "o melhor preço e algumas estatisticas ao cliente final. \n"
   ]
  },
  {
   "cell_type": "code",
   "execution_count": 1,
   "id": "c3272ea0",
   "metadata": {},
   "outputs": [],
   "source": [
    "import requests\n",
    "import pandas as pd\n",
    "import pandas_profiling\n",
    "from bs4 import BeautifulSoup\n",
    "import matplotlib.pyplot as plt"
   ]
  },
  {
   "cell_type": "code",
   "execution_count": 2,
   "id": "641ff1b0",
   "metadata": {},
   "outputs": [],
   "source": [
    "lista_produtos = []\n",
    "pesquisa = []"
   ]
  },
  {
   "cell_type": "code",
   "execution_count": 5,
   "id": "4120fb58",
   "metadata": {},
   "outputs": [],
   "source": [
    "url_base = \"http://www.buscape.com.br\"\n",
    "url = \"https://www.buscape.com.br/search?q=\""
   ]
  },
  {
   "cell_type": "code",
   "execution_count": 6,
   "id": "4af13e59",
   "metadata": {},
   "outputs": [
    {
     "name": "stdout",
     "output_type": "stream",
     "text": [
      "Quantos itens deseja cotar? 3\n",
      "Digite o produto a ser cotado: Pneus aro 13\"\n"
     ]
    }
   ],
   "source": [
    "itens = input(\"Quantos itens deseja cotar? \")\n",
    "pesquisa = input(\"Digite o produto a ser cotado: \")\n"
   ]
  },
  {
   "cell_type": "code",
   "execution_count": 7,
   "id": "5ec64067",
   "metadata": {},
   "outputs": [
    {
     "name": "stdout",
     "output_type": "stream",
     "text": [
      "https://www.buscape.com.br/search?q=Pneus aro 13\"\n"
     ]
    }
   ],
   "source": [
    "print (url+pesquisa)"
   ]
  },
  {
   "cell_type": "code",
   "execution_count": 8,
   "id": "2ca3ea58",
   "metadata": {},
   "outputs": [],
   "source": [
    "response = requests.get(url + pesquisa)"
   ]
  },
  {
   "cell_type": "code",
   "execution_count": 9,
   "id": "3249ed12",
   "metadata": {},
   "outputs": [],
   "source": [
    "site = BeautifulSoup(response.text, 'html.parser')"
   ]
  },
  {
   "cell_type": "code",
   "execution_count": 10,
   "id": "9daa7b3d",
   "metadata": {},
   "outputs": [],
   "source": [
    "#print(site.prettify())"
   ]
  },
  {
   "cell_type": "code",
   "execution_count": 11,
   "id": "4b6f9f4c",
   "metadata": {},
   "outputs": [],
   "source": [
    "produtos = site.findAll('div', attrs= {'class': 'card card--offer card--cpc'})"
   ]
  },
  {
   "cell_type": "code",
   "execution_count": 12,
   "id": "5f85bbbd",
   "metadata": {},
   "outputs": [],
   "source": [
    "loja1 = []"
   ]
  },
  {
   "cell_type": "code",
   "execution_count": 13,
   "id": "725fb971",
   "metadata": {},
   "outputs": [],
   "source": [
    "for produto in produtos:\n",
    "   \n",
    "    titulo = produto.find('a', attrs= {'class': 'link'})\n",
    "    valoreal = produto.find('span', attrs= {'class': 'mainValue'})\n",
    "    valorcent = produto.find('span', attrs= {'class': 'centsValue'})\n",
    "   # link = url_base + link_produto\n",
    "    if(valorcent):\n",
    "        valor = valoreal.text + valorcent.text\n",
    "    else:\n",
    "        print(valoreal)\n",
    "        \n",
    "    loja = produto.find('a', attrs = {'class': 'merchantName'})\n",
    "    loja1 = produto.find('a', attrs = {'class': 'merchantName'})\n",
    "    link_produto = produto.find('a', attrs = {'class': 'link'})\n",
    "    link_produto = link_produto['href']\n",
    "    lista_produtos.append([titulo.text,valor,loja.text,url+link_produto]) \n",
    "    \n",
    "  #  lista_produtos.append([titulo.text, valor, loja.text,link ])\n",
    "  #  cotacao = pd.Dataframe(lista_produtos, columns=['Titulo','Preço','Loja','link'])\n",
    "  #  print(titulo.text)\n",
    "  #  print(valor)\n",
    "  #  print(loja.text)\n",
    "  #  print(url_base + link_produto)\n",
    "  #  print('\\n\\n')"
   ]
  },
  {
   "cell_type": "code",
   "execution_count": 14,
   "id": "fc138eff",
   "metadata": {},
   "outputs": [],
   "source": [
    "cotacao = pd.DataFrame(lista_produtos, columns=['Titulo','Preco','Loja','Link'], )"
   ]
  },
  {
   "cell_type": "code",
   "execution_count": 15,
   "id": "a41849f0",
   "metadata": {},
   "outputs": [],
   "source": [
    "cotacao.to_csv('cotacao.csv', index=False)"
   ]
  },
  {
   "cell_type": "code",
   "execution_count": 16,
   "id": "535f648b",
   "metadata": {},
   "outputs": [],
   "source": [
    "\n",
    "cotacao1 = pd.read_csv('cotacao.csv' )"
   ]
  },
  {
   "cell_type": "code",
   "execution_count": 17,
   "id": "68055eff",
   "metadata": {},
   "outputs": [
    {
     "data": {
      "text/html": [
       "<div>\n",
       "<style scoped>\n",
       "    .dataframe tbody tr th:only-of-type {\n",
       "        vertical-align: middle;\n",
       "    }\n",
       "\n",
       "    .dataframe tbody tr th {\n",
       "        vertical-align: top;\n",
       "    }\n",
       "\n",
       "    .dataframe thead th {\n",
       "        text-align: right;\n",
       "    }\n",
       "</style>\n",
       "<table border=\"1\" class=\"dataframe\">\n",
       "  <thead>\n",
       "    <tr style=\"text-align: right;\">\n",
       "      <th></th>\n",
       "      <th>Titulo</th>\n",
       "      <th>Preco</th>\n",
       "      <th>Loja</th>\n",
       "      <th>Link</th>\n",
       "    </tr>\n",
       "  </thead>\n",
       "  <tbody>\n",
       "    <tr>\n",
       "      <th>0</th>\n",
       "      <td>Pneu Continental Aro 13&amp;quot; 175/70 R13 82T S...</td>\n",
       "      <td>R$ 373,92</td>\n",
       "      <td>Extra</td>\n",
       "      <td>https://www.buscape.com.br/search?q=/lead?oid=...</td>\n",
       "    </tr>\n",
       "    <tr>\n",
       "      <th>1</th>\n",
       "      <td>Pneu Hifly Aro 13\" 175/60 R13 77H HF201</td>\n",
       "      <td>R$ 284,17</td>\n",
       "      <td>Americanas</td>\n",
       "      <td>https://www.buscape.com.br/search?q=/lead?oid=...</td>\n",
       "    </tr>\n",
       "    <tr>\n",
       "      <th>2</th>\n",
       "      <td>Pneu Lanvigator Aro 13&amp;quot; 175/60 R13 77H CO...</td>\n",
       "      <td>R$ 385,39</td>\n",
       "      <td>Pontofrio</td>\n",
       "      <td>https://www.buscape.com.br/search?q=/lead?oid=...</td>\n",
       "    </tr>\n",
       "    <tr>\n",
       "      <th>3</th>\n",
       "      <td>Pneu Lanvigator Aro 13&amp;quot; 175/60 R13 77H CO...</td>\n",
       "      <td>R$ 385,39</td>\n",
       "      <td>Extra</td>\n",
       "      <td>https://www.buscape.com.br/search?q=/lead?oid=...</td>\n",
       "    </tr>\n",
       "    <tr>\n",
       "      <th>4</th>\n",
       "      <td>Pneu Lanvigator Aro 13&amp;quot; 175/60 R13 77H CO...</td>\n",
       "      <td>R$ 385,39</td>\n",
       "      <td>Casas Bahia</td>\n",
       "      <td>https://www.buscape.com.br/search?q=/lead?oid=...</td>\n",
       "    </tr>\n",
       "    <tr>\n",
       "      <th>5</th>\n",
       "      <td>Pneu Vitour Aro 13\" 215/50 R13 84H Galaxy Form...</td>\n",
       "      <td>R$ 691,98</td>\n",
       "      <td>Americanas</td>\n",
       "      <td>https://www.buscape.com.br/search?q=/lead?oid=...</td>\n",
       "    </tr>\n",
       "    <tr>\n",
       "      <th>6</th>\n",
       "      <td>Pneu Vitour Aro 13&amp;quot; 235/50 R13 89H Galaxy...</td>\n",
       "      <td>R$ 751,45</td>\n",
       "      <td>Pontofrio</td>\n",
       "      <td>https://www.buscape.com.br/search?q=/lead?oid=...</td>\n",
       "    </tr>\n",
       "    <tr>\n",
       "      <th>7</th>\n",
       "      <td>Pneu Vitour Aro 13&amp;quot; 235/50 R13 89H Galaxy...</td>\n",
       "      <td>R$ 751,45</td>\n",
       "      <td>Extra</td>\n",
       "      <td>https://www.buscape.com.br/search?q=/lead?oid=...</td>\n",
       "    </tr>\n",
       "    <tr>\n",
       "      <th>8</th>\n",
       "      <td>Pneu Vitour Aro 13\" 235/50 R13 89H Galaxy Form...</td>\n",
       "      <td>R$ 758,10</td>\n",
       "      <td>Americanas</td>\n",
       "      <td>https://www.buscape.com.br/search?q=/lead?oid=...</td>\n",
       "    </tr>\n",
       "    <tr>\n",
       "      <th>9</th>\n",
       "      <td>Pneu Hifly Aro 13&amp;quot; 175/60 R13 77H HF201</td>\n",
       "      <td>R$ 326,57</td>\n",
       "      <td>Casas Bahia</td>\n",
       "      <td>https://www.buscape.com.br/search?q=/lead?oid=...</td>\n",
       "    </tr>\n",
       "    <tr>\n",
       "      <th>10</th>\n",
       "      <td>Pneu Hifly Aro 13&amp;quot; 175/60 R13 77H HF201</td>\n",
       "      <td>R$ 326,57</td>\n",
       "      <td>Extra</td>\n",
       "      <td>https://www.buscape.com.br/search?q=/lead?oid=...</td>\n",
       "    </tr>\n",
       "    <tr>\n",
       "      <th>11</th>\n",
       "      <td>Pneu Vitour Aro 13&amp;quot; 215/50 R13 84H Galaxy...</td>\n",
       "      <td>R$ 685,91</td>\n",
       "      <td>Pontofrio</td>\n",
       "      <td>https://www.buscape.com.br/search?q=/lead?oid=...</td>\n",
       "    </tr>\n",
       "    <tr>\n",
       "      <th>12</th>\n",
       "      <td>Pneu Hifly Aro 13&amp;quot; 175/60 R13 77H HF201</td>\n",
       "      <td>R$ 326,57</td>\n",
       "      <td>Pontofrio</td>\n",
       "      <td>https://www.buscape.com.br/search?q=/lead?oid=...</td>\n",
       "    </tr>\n",
       "    <tr>\n",
       "      <th>13</th>\n",
       "      <td>Pneu Vitour Aro 13&amp;quot; 215/50 R13 84H Galaxy...</td>\n",
       "      <td>R$ 685,91</td>\n",
       "      <td>Extra</td>\n",
       "      <td>https://www.buscape.com.br/search?q=/lead?oid=...</td>\n",
       "    </tr>\n",
       "    <tr>\n",
       "      <th>14</th>\n",
       "      <td>Pneu Vitour Aro 13&amp;quot; 215/50 R13 84H Galaxy...</td>\n",
       "      <td>R$ 685,91</td>\n",
       "      <td>Casas Bahia</td>\n",
       "      <td>https://www.buscape.com.br/search?q=/lead?oid=...</td>\n",
       "    </tr>\n",
       "    <tr>\n",
       "      <th>15</th>\n",
       "      <td>Pneu Vitour Aro 13&amp;quot; 235/50 R13 89H Galaxy...</td>\n",
       "      <td>R$ 751,45</td>\n",
       "      <td>Casas Bahia</td>\n",
       "      <td>https://www.buscape.com.br/search?q=/lead?oid=...</td>\n",
       "    </tr>\n",
       "    <tr>\n",
       "      <th>16</th>\n",
       "      <td>Pneu Continental Aro 13&amp;quot; 175/70 R13 82T S...</td>\n",
       "      <td>R$ 373,92</td>\n",
       "      <td>Pontofrio</td>\n",
       "      <td>https://www.buscape.com.br/search?q=/lead?oid=...</td>\n",
       "    </tr>\n",
       "    <tr>\n",
       "      <th>17</th>\n",
       "      <td>Pneu Continental Aro 13&amp;quot; 175/70 R13 82T S...</td>\n",
       "      <td>R$ 373,92</td>\n",
       "      <td>Casas Bahia</td>\n",
       "      <td>https://www.buscape.com.br/search?q=/lead?oid=...</td>\n",
       "    </tr>\n",
       "    <tr>\n",
       "      <th>18</th>\n",
       "      <td>Kit com 4 Capas Protetoras de Roda Pneu Anti X...</td>\n",
       "      <td>R$ 119,90</td>\n",
       "      <td>Submarino</td>\n",
       "      <td>https://www.buscape.com.br/search?q=/lead?oid=...</td>\n",
       "    </tr>\n",
       "    <tr>\n",
       "      <th>19</th>\n",
       "      <td>Kit com 4 Capas Protetoras de Roda Pneu Anti X...</td>\n",
       "      <td>R$ 119,90</td>\n",
       "      <td>Shoptime</td>\n",
       "      <td>https://www.buscape.com.br/search?q=/lead?oid=...</td>\n",
       "    </tr>\n",
       "    <tr>\n",
       "      <th>20</th>\n",
       "      <td>Pneu APTANY Aro 13&amp;quot; 175/60 R13 77T RP203</td>\n",
       "      <td>R$ 392,16</td>\n",
       "      <td>Casas Bahia</td>\n",
       "      <td>https://www.buscape.com.br/search?q=/lead?oid=...</td>\n",
       "    </tr>\n",
       "    <tr>\n",
       "      <th>21</th>\n",
       "      <td>Pneu Vitour Aro 13\" 235/50 R13 89H Galaxy Form...</td>\n",
       "      <td>R$ 758,10</td>\n",
       "      <td>Submarino</td>\n",
       "      <td>https://www.buscape.com.br/search?q=/lead?oid=...</td>\n",
       "    </tr>\n",
       "  </tbody>\n",
       "</table>\n",
       "</div>"
      ],
      "text/plain": [
       "                                               Titulo      Preco         Loja  \\\n",
       "0   Pneu Continental Aro 13&quot; 175/70 R13 82T S...  R$ 373,92        Extra   \n",
       "1             Pneu Hifly Aro 13\" 175/60 R13 77H HF201  R$ 284,17   Americanas   \n",
       "2   Pneu Lanvigator Aro 13&quot; 175/60 R13 77H CO...  R$ 385,39    Pontofrio   \n",
       "3   Pneu Lanvigator Aro 13&quot; 175/60 R13 77H CO...  R$ 385,39        Extra   \n",
       "4   Pneu Lanvigator Aro 13&quot; 175/60 R13 77H CO...  R$ 385,39  Casas Bahia   \n",
       "5   Pneu Vitour Aro 13\" 215/50 R13 84H Galaxy Form...  R$ 691,98   Americanas   \n",
       "6   Pneu Vitour Aro 13&quot; 235/50 R13 89H Galaxy...  R$ 751,45    Pontofrio   \n",
       "7   Pneu Vitour Aro 13&quot; 235/50 R13 89H Galaxy...  R$ 751,45        Extra   \n",
       "8   Pneu Vitour Aro 13\" 235/50 R13 89H Galaxy Form...  R$ 758,10   Americanas   \n",
       "9        Pneu Hifly Aro 13&quot; 175/60 R13 77H HF201  R$ 326,57  Casas Bahia   \n",
       "10       Pneu Hifly Aro 13&quot; 175/60 R13 77H HF201  R$ 326,57        Extra   \n",
       "11  Pneu Vitour Aro 13&quot; 215/50 R13 84H Galaxy...  R$ 685,91    Pontofrio   \n",
       "12       Pneu Hifly Aro 13&quot; 175/60 R13 77H HF201  R$ 326,57    Pontofrio   \n",
       "13  Pneu Vitour Aro 13&quot; 215/50 R13 84H Galaxy...  R$ 685,91        Extra   \n",
       "14  Pneu Vitour Aro 13&quot; 215/50 R13 84H Galaxy...  R$ 685,91  Casas Bahia   \n",
       "15  Pneu Vitour Aro 13&quot; 235/50 R13 89H Galaxy...  R$ 751,45  Casas Bahia   \n",
       "16  Pneu Continental Aro 13&quot; 175/70 R13 82T S...  R$ 373,92    Pontofrio   \n",
       "17  Pneu Continental Aro 13&quot; 175/70 R13 82T S...  R$ 373,92  Casas Bahia   \n",
       "18  Kit com 4 Capas Protetoras de Roda Pneu Anti X...  R$ 119,90    Submarino   \n",
       "19  Kit com 4 Capas Protetoras de Roda Pneu Anti X...  R$ 119,90     Shoptime   \n",
       "20      Pneu APTANY Aro 13&quot; 175/60 R13 77T RP203  R$ 392,16  Casas Bahia   \n",
       "21  Pneu Vitour Aro 13\" 235/50 R13 89H Galaxy Form...  R$ 758,10    Submarino   \n",
       "\n",
       "                                                 Link  \n",
       "0   https://www.buscape.com.br/search?q=/lead?oid=...  \n",
       "1   https://www.buscape.com.br/search?q=/lead?oid=...  \n",
       "2   https://www.buscape.com.br/search?q=/lead?oid=...  \n",
       "3   https://www.buscape.com.br/search?q=/lead?oid=...  \n",
       "4   https://www.buscape.com.br/search?q=/lead?oid=...  \n",
       "5   https://www.buscape.com.br/search?q=/lead?oid=...  \n",
       "6   https://www.buscape.com.br/search?q=/lead?oid=...  \n",
       "7   https://www.buscape.com.br/search?q=/lead?oid=...  \n",
       "8   https://www.buscape.com.br/search?q=/lead?oid=...  \n",
       "9   https://www.buscape.com.br/search?q=/lead?oid=...  \n",
       "10  https://www.buscape.com.br/search?q=/lead?oid=...  \n",
       "11  https://www.buscape.com.br/search?q=/lead?oid=...  \n",
       "12  https://www.buscape.com.br/search?q=/lead?oid=...  \n",
       "13  https://www.buscape.com.br/search?q=/lead?oid=...  \n",
       "14  https://www.buscape.com.br/search?q=/lead?oid=...  \n",
       "15  https://www.buscape.com.br/search?q=/lead?oid=...  \n",
       "16  https://www.buscape.com.br/search?q=/lead?oid=...  \n",
       "17  https://www.buscape.com.br/search?q=/lead?oid=...  \n",
       "18  https://www.buscape.com.br/search?q=/lead?oid=...  \n",
       "19  https://www.buscape.com.br/search?q=/lead?oid=...  \n",
       "20  https://www.buscape.com.br/search?q=/lead?oid=...  \n",
       "21  https://www.buscape.com.br/search?q=/lead?oid=...  "
      ]
     },
     "execution_count": 17,
     "metadata": {},
     "output_type": "execute_result"
    }
   ],
   "source": [
    "cotacao1"
   ]
  },
  {
   "cell_type": "code",
   "execution_count": 18,
   "id": "9477a614",
   "metadata": {},
   "outputs": [],
   "source": [
    "cotacao1 = cotacao1.drop_duplicates(\"Loja\")"
   ]
  },
  {
   "cell_type": "code",
   "execution_count": 22,
   "id": "121fdc0c",
   "metadata": {},
   "outputs": [
    {
     "data": {
      "text/html": [
       "<div>\n",
       "<style scoped>\n",
       "    .dataframe tbody tr th:only-of-type {\n",
       "        vertical-align: middle;\n",
       "    }\n",
       "\n",
       "    .dataframe tbody tr th {\n",
       "        vertical-align: top;\n",
       "    }\n",
       "\n",
       "    .dataframe thead th {\n",
       "        text-align: right;\n",
       "    }\n",
       "</style>\n",
       "<table border=\"1\" class=\"dataframe\">\n",
       "  <thead>\n",
       "    <tr style=\"text-align: right;\">\n",
       "      <th></th>\n",
       "      <th>Titulo</th>\n",
       "      <th>Preco</th>\n",
       "      <th>Loja</th>\n",
       "      <th>Link</th>\n",
       "    </tr>\n",
       "  </thead>\n",
       "  <tbody>\n",
       "    <tr>\n",
       "      <th>18</th>\n",
       "      <td>Kit com 4 Capas Protetoras de Roda Pneu Anti X...</td>\n",
       "      <td>R$ 119,90</td>\n",
       "      <td>Submarino</td>\n",
       "      <td>https://www.buscape.com.br/search?q=/lead?oid=...</td>\n",
       "    </tr>\n",
       "    <tr>\n",
       "      <th>19</th>\n",
       "      <td>Kit com 4 Capas Protetoras de Roda Pneu Anti X...</td>\n",
       "      <td>R$ 119,90</td>\n",
       "      <td>Shoptime</td>\n",
       "      <td>https://www.buscape.com.br/search?q=/lead?oid=...</td>\n",
       "    </tr>\n",
       "    <tr>\n",
       "      <th>1</th>\n",
       "      <td>Pneu Hifly Aro 13\" 175/60 R13 77H HF201</td>\n",
       "      <td>R$ 284,17</td>\n",
       "      <td>Americanas</td>\n",
       "      <td>https://www.buscape.com.br/search?q=/lead?oid=...</td>\n",
       "    </tr>\n",
       "    <tr>\n",
       "      <th>0</th>\n",
       "      <td>Pneu Continental Aro 13&amp;quot; 175/70 R13 82T S...</td>\n",
       "      <td>R$ 373,92</td>\n",
       "      <td>Extra</td>\n",
       "      <td>https://www.buscape.com.br/search?q=/lead?oid=...</td>\n",
       "    </tr>\n",
       "    <tr>\n",
       "      <th>2</th>\n",
       "      <td>Pneu Lanvigator Aro 13&amp;quot; 175/60 R13 77H CO...</td>\n",
       "      <td>R$ 385,39</td>\n",
       "      <td>Pontofrio</td>\n",
       "      <td>https://www.buscape.com.br/search?q=/lead?oid=...</td>\n",
       "    </tr>\n",
       "    <tr>\n",
       "      <th>4</th>\n",
       "      <td>Pneu Lanvigator Aro 13&amp;quot; 175/60 R13 77H CO...</td>\n",
       "      <td>R$ 385,39</td>\n",
       "      <td>Casas Bahia</td>\n",
       "      <td>https://www.buscape.com.br/search?q=/lead?oid=...</td>\n",
       "    </tr>\n",
       "  </tbody>\n",
       "</table>\n",
       "</div>"
      ],
      "text/plain": [
       "                                               Titulo      Preco         Loja  \\\n",
       "18  Kit com 4 Capas Protetoras de Roda Pneu Anti X...  R$ 119,90    Submarino   \n",
       "19  Kit com 4 Capas Protetoras de Roda Pneu Anti X...  R$ 119,90     Shoptime   \n",
       "1             Pneu Hifly Aro 13\" 175/60 R13 77H HF201  R$ 284,17   Americanas   \n",
       "0   Pneu Continental Aro 13&quot; 175/70 R13 82T S...  R$ 373,92        Extra   \n",
       "2   Pneu Lanvigator Aro 13&quot; 175/60 R13 77H CO...  R$ 385,39    Pontofrio   \n",
       "4   Pneu Lanvigator Aro 13&quot; 175/60 R13 77H CO...  R$ 385,39  Casas Bahia   \n",
       "\n",
       "                                                 Link  \n",
       "18  https://www.buscape.com.br/search?q=/lead?oid=...  \n",
       "19  https://www.buscape.com.br/search?q=/lead?oid=...  \n",
       "1   https://www.buscape.com.br/search?q=/lead?oid=...  \n",
       "0   https://www.buscape.com.br/search?q=/lead?oid=...  \n",
       "2   https://www.buscape.com.br/search?q=/lead?oid=...  \n",
       "4   https://www.buscape.com.br/search?q=/lead?oid=...  "
      ]
     },
     "execution_count": 22,
     "metadata": {},
     "output_type": "execute_result"
    }
   ],
   "source": [
    "cotacao1"
   ]
  },
  {
   "cell_type": "code",
   "execution_count": 23,
   "id": "6061f9d1",
   "metadata": {},
   "outputs": [],
   "source": [
    "#pandas_profiling.ProfileReport(cotacao1)"
   ]
  },
  {
   "cell_type": "code",
   "execution_count": 24,
   "id": "a3b383a9",
   "metadata": {},
   "outputs": [
    {
     "data": {
      "text/plain": [
       "<BarContainer object of 6 artists>"
      ]
     },
     "execution_count": 24,
     "metadata": {},
     "output_type": "execute_result"
    },
    {
     "data": {
      "image/png": "[encoded data removed]",
      "text/plain": [
       "<Figure size 432x288 with 1 Axes>"
      ]
     },
     "metadata": {
      "needs_background": "light"
     },
     "output_type": "display_data"
    }
   ],
   "source": [
    "plt.bar(cotacao1.Loja,cotacao1.Preco, color='blue')\n"
   ]
  },
  {
   "cell_type": "code",
   "execution_count": 25,
   "id": "828dd858",
   "metadata": {},
   "outputs": [],
   "source": [
    "Lojas = cotacao1.Loja\n"
   ]
  },
  {
   "cell_type": "code",
   "execution_count": 26,
   "id": "b94b3810",
   "metadata": {},
   "outputs": [
    {
     "name": "stdout",
     "output_type": "stream",
     "text": [
      "Foi realizada pesquisa entre as lojas: \n"
     ]
    },
    {
     "data": {
      "text/plain": [
       "18      Submarino\n",
       "19       Shoptime\n",
       "1      Americanas\n",
       "0           Extra\n",
       "2       Pontofrio\n",
       "4     Casas Bahia\n",
       "Name: Loja, dtype: object"
      ]
     },
     "execution_count": 26,
     "metadata": {},
     "output_type": "execute_result"
    }
   ],
   "source": [
    "print('Foi realizada pesquisa entre as lojas: ')\n",
    "Lojas"
   ]
  },
  {
   "cell_type": "code",
   "execution_count": null,
   "id": "d094670f",
   "metadata": {},
   "outputs": [],
   "source": []
  },
  {
   "cell_type": "code",
   "execution_count": null,
   "id": "86b8839d",
   "metadata": {},
   "outputs": [],
   "source": []
  },
  {
   "cell_type": "code",
   "execution_count": 34,
   "id": "04495700",
   "metadata": {},
   "outputs": [
    {
     "name": "stdout",
     "output_type": "stream",
     "text": [
      "<class 'pandas.core.frame.DataFrame'>\n",
      "Int64Index: 6 entries, 18 to 4\n",
      "Data columns (total 4 columns):\n",
      " #   Column  Non-Null Count  Dtype \n",
      "---  ------  --------------  ----- \n",
      " 0   Titulo  6 non-null      object\n",
      " 1   Preco   6 non-null      object\n",
      " 2   Loja    6 non-null      object\n",
      " 3   Link    6 non-null      object\n",
      "dtypes: object(4)\n",
      "memory usage: 240.0+ bytes\n"
     ]
    }
   ],
   "source": [
    "cotacao1.info()"
   ]
  },
  {
   "cell_type": "code",
   "execution_count": null,
   "id": "42bc413c",
   "metadata": {},
   "outputs": [],
   "source": []
  },
  {
   "cell_type": "code",
   "execution_count": null,
   "id": "4fbaa580",
   "metadata": {},
   "outputs": [],
   "source": []
  }
 ],
 "metadata": {
  "kernelspec": {
   "display_name": "Python 3",
   "language": "python",
   "name": "python3"
  },
  "language_info": {
   "codemirror_mode": {
    "name": "ipython",
    "version": 3
   },
   "file_extension": ".py",
   "mimetype": "text/x-python",
   "name": "python",
   "nbconvert_exporter": "python",
   "pygments_lexer": "ipython3",
   "version": "3.8.8"
  }
 },
 "nbformat": 4,
 "nbformat_minor": 5
}
