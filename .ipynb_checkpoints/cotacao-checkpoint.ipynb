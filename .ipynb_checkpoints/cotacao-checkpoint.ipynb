{
 "cells": [
  {
   "cell_type": "markdown",
   "id": "a5d84459",
   "metadata": {},
   "source": [
    "# Cotação de Preços\n",
    "\n",
    "Este projeto visa facilitar as tarefas de cotações de preços na internet.\n",
    "Através de técnicas de WebScaraping,foram automatizados alguns processos repetitivos de coleta de informações.\n",
    "O objetivo é pesquisar os itens em diversas lojas através do site buscapé e retornar \n",
    "o melhor preço e algumas estatisticas ao cliente final. \n"
   ]
  },
  {
   "cell_type": "code",
   "execution_count": 1,
   "id": "c3272ea0",
   "metadata": {},
   "outputs": [],
   "source": [
    "import requests\n",
    "import pandas as pd\n",
    "import pandas_profiling\n",
    "from bs4 import BeautifulSoup\n",
    "import matplotlib.pyplot as plt"
   ]
  },
  {
   "cell_type": "code",
   "execution_count": 2,
   "id": "641ff1b0",
   "metadata": {},
   "outputs": [],
   "source": [
    "lista_produtos = []\n",
    "pesquisa = []"
   ]
  },
  {
   "cell_type": "code",
   "execution_count": 3,
   "id": "4120fb58",
   "metadata": {},
   "outputs": [],
   "source": [
    "#Definição da plataforma de cotação\n",
    "url_base = \"http://www.buscape.com.br\"\n",
    "url = \"https://www.buscape.com.br/search?q=\""
   ]
  },
  {
   "cell_type": "code",
   "execution_count": 4,
   "id": "4af13e59",
   "metadata": {
    "scrolled": true
   },
   "outputs": [
    {
     "name": "stdout",
     "output_type": "stream",
     "text": [
      "Quantos itens deseja cotar? 3\n",
      "Digite o produto a ser cotado: sabonete lux\n"
     ]
    }
   ],
   "source": [
    "itens = input(\"Quantos itens deseja cotar? \")\n",
    "pesquisa = input(\"Digite o produto a ser cotado: \")\n"
   ]
  },
  {
   "cell_type": "code",
   "execution_count": 5,
   "id": "5ec64067",
   "metadata": {},
   "outputs": [
    {
     "name": "stdout",
     "output_type": "stream",
     "text": [
      "https://www.buscape.com.br/search?q=sabonete lux\n"
     ]
    }
   ],
   "source": [
    "print (url+pesquisa)"
   ]
  },
  {
   "cell_type": "code",
   "execution_count": 6,
   "id": "2ca3ea58",
   "metadata": {},
   "outputs": [],
   "source": [
    "response = requests.get(url + pesquisa)"
   ]
  },
  {
   "cell_type": "code",
   "execution_count": 7,
   "id": "3249ed12",
   "metadata": {},
   "outputs": [],
   "source": [
    "#Criação do objeto Beautfulsoup\n",
    "site = BeautifulSoup(response.text, 'html.parser')"
   ]
  },
  {
   "cell_type": "code",
   "execution_count": 8,
   "id": "9daa7b3d",
   "metadata": {},
   "outputs": [],
   "source": [
    "#print(site.prettify())"
   ]
  },
  {
   "cell_type": "code",
   "execution_count": 9,
   "id": "4b6f9f4c",
   "metadata": {},
   "outputs": [],
   "source": [
    "produtos = site.findAll('div', attrs= {'class': 'card card--offer card--cpc'})"
   ]
  },
  {
   "cell_type": "code",
   "execution_count": 10,
   "id": "5f85bbbd",
   "metadata": {},
   "outputs": [],
   "source": [
    "loja1 = []"
   ]
  },
  {
   "cell_type": "code",
   "execution_count": 11,
   "id": "725fb971",
   "metadata": {},
   "outputs": [],
   "source": [
    "#Percorrendo a pagina HTML da platafoma de cotação e criando o Dataframe.\n",
    "for produto in produtos:\n",
    "   \n",
    "    titulo = produto.find('a', attrs= {'class': 'link'})\n",
    "    valoreal = produto.find('span', attrs= {'class': 'mainValue'})\n",
    "    valorcent = produto.find('span', attrs= {'class': 'centsValue'})\n",
    "   # link = url_base + link_produto\n",
    "    if(valorcent):\n",
    "        valor = valoreal.text + valorcent.text\n",
    "    else:\n",
    "        print(valoreal)\n",
    "        \n",
    "    loja = produto.find('a', attrs = {'class': 'merchantName'})\n",
    "    loja1 = produto.find('a', attrs = {'class': 'merchantName'})\n",
    "    link_produto = produto.find('a', attrs = {'class': 'link'})\n",
    "    link_produto = link_produto['href']\n",
    "    lista_produtos.append([titulo.text,valor,loja.text,url+link_produto]) \n",
    "    \n",
    "  "
   ]
  },
  {
   "cell_type": "code",
   "execution_count": 12,
   "id": "fc138eff",
   "metadata": {},
   "outputs": [],
   "source": [
    "cotacao = pd.DataFrame(lista_produtos, columns=['Titulo','Preco','Loja','Link'], )"
   ]
  },
  {
   "cell_type": "code",
   "execution_count": 13,
   "id": "a41849f0",
   "metadata": {},
   "outputs": [],
   "source": [
    "cotacao.to_csv('cotacao.csv', index=False)"
   ]
  },
  {
   "cell_type": "code",
   "execution_count": 14,
   "id": "535f648b",
   "metadata": {},
   "outputs": [],
   "source": [
    "#criando o arquivo csv\n",
    "cotacao1 = pd.read_csv('cotacao.csv' )"
   ]
  },
  {
   "cell_type": "code",
   "execution_count": 15,
   "id": "68055eff",
   "metadata": {},
   "outputs": [
    {
     "data": {
      "text/html": [
       "<div>\n",
       "<style scoped>\n",
       "    .dataframe tbody tr th:only-of-type {\n",
       "        vertical-align: middle;\n",
       "    }\n",
       "\n",
       "    .dataframe tbody tr th {\n",
       "        vertical-align: top;\n",
       "    }\n",
       "\n",
       "    .dataframe thead th {\n",
       "        text-align: right;\n",
       "    }\n",
       "</style>\n",
       "<table border=\"1\" class=\"dataframe\">\n",
       "  <thead>\n",
       "    <tr style=\"text-align: right;\">\n",
       "      <th></th>\n",
       "      <th>Titulo</th>\n",
       "      <th>Preco</th>\n",
       "      <th>Loja</th>\n",
       "      <th>Link</th>\n",
       "    </tr>\n",
       "  </thead>\n",
       "  <tbody>\n",
       "    <tr>\n",
       "      <th>0</th>\n",
       "      <td>Sabonete em Barra Lux Botanicals Buquê de Jasm...</td>\n",
       "      <td>R$ 1,13</td>\n",
       "      <td>Drogasil.com</td>\n",
       "      <td>https://www.buscape.com.br/search?q=/lead?oid=...</td>\n",
       "    </tr>\n",
       "    <tr>\n",
       "      <th>1</th>\n",
       "      <td>Sabonete em Barra Lux Botanicals Flor de Verbe...</td>\n",
       "      <td>R$ 1,13</td>\n",
       "      <td>Drogasil.com</td>\n",
       "      <td>https://www.buscape.com.br/search?q=/lead?oid=...</td>\n",
       "    </tr>\n",
       "    <tr>\n",
       "      <th>2</th>\n",
       "      <td>Refil Sabonete Líquido Lux Botanicals Lavanda ...</td>\n",
       "      <td>R$ 2,95</td>\n",
       "      <td>DrogaRaia.com</td>\n",
       "      <td>https://www.buscape.com.br/search?q=/lead?oid=...</td>\n",
       "    </tr>\n",
       "    <tr>\n",
       "      <th>3</th>\n",
       "      <td>Sabonete em Barra Lux Botanicals Flor de Lótus...</td>\n",
       "      <td>R$ 1,13</td>\n",
       "      <td>Drogasil.com</td>\n",
       "      <td>https://www.buscape.com.br/search?q=/lead?oid=...</td>\n",
       "    </tr>\n",
       "    <tr>\n",
       "      <th>4</th>\n",
       "      <td>Sabonete em Barra Lux Botanicals Lavanda com 8...</td>\n",
       "      <td>R$ 1,13</td>\n",
       "      <td>Drogasil.com</td>\n",
       "      <td>https://www.buscape.com.br/search?q=/lead?oid=...</td>\n",
       "    </tr>\n",
       "    <tr>\n",
       "      <th>5</th>\n",
       "      <td>Refil Sabonete Líquido Lux Botanicals Buquê de...</td>\n",
       "      <td>R$ 4,69</td>\n",
       "      <td>Drogasil.com</td>\n",
       "      <td>https://www.buscape.com.br/search?q=/lead?oid=...</td>\n",
       "    </tr>\n",
       "    <tr>\n",
       "      <th>6</th>\n",
       "      <td>Sabonete Líquido Lux Botanicals Flor de Lótus ...</td>\n",
       "      <td>R$ 4,69</td>\n",
       "      <td>Drogasil.com</td>\n",
       "      <td>https://www.buscape.com.br/search?q=/lead?oid=...</td>\n",
       "    </tr>\n",
       "    <tr>\n",
       "      <th>7</th>\n",
       "      <td>Sabonete em Barra Lux Botanicals Flor de Verbe...</td>\n",
       "      <td>R$ 1,29</td>\n",
       "      <td>Farma 22</td>\n",
       "      <td>https://www.buscape.com.br/search?q=/lead?oid=...</td>\n",
       "    </tr>\n",
       "    <tr>\n",
       "      <th>8</th>\n",
       "      <td>Sabonete Líquido Lux Botanicals Rosas Francesa...</td>\n",
       "      <td>R$ 4,78</td>\n",
       "      <td>Farmadelivery</td>\n",
       "      <td>https://www.buscape.com.br/search?q=/lead?oid=...</td>\n",
       "    </tr>\n",
       "    <tr>\n",
       "      <th>9</th>\n",
       "      <td>Refil Sabonete Líquido Lux Botanicals Capim Li...</td>\n",
       "      <td>R$ 2,95</td>\n",
       "      <td>DrogaRaia.com</td>\n",
       "      <td>https://www.buscape.com.br/search?q=/lead?oid=...</td>\n",
       "    </tr>\n",
       "    <tr>\n",
       "      <th>10</th>\n",
       "      <td>Refil Sabonete Líquido Lux Botanicals Flor de ...</td>\n",
       "      <td>R$ 4,69</td>\n",
       "      <td>Drogasil.com</td>\n",
       "      <td>https://www.buscape.com.br/search?q=/lead?oid=...</td>\n",
       "    </tr>\n",
       "    <tr>\n",
       "      <th>11</th>\n",
       "      <td>Sabonete Líquido Refil Lux Botanicals Orquídea...</td>\n",
       "      <td>R$ 5,35</td>\n",
       "      <td>Drogasil.com</td>\n",
       "      <td>https://www.buscape.com.br/search?q=/lead?oid=...</td>\n",
       "    </tr>\n",
       "    <tr>\n",
       "      <th>12</th>\n",
       "      <td>Refil Sabonete Líquido Lux Botanicals Rosas Fr...</td>\n",
       "      <td>R$ 3,29</td>\n",
       "      <td>DrogaRaia.com</td>\n",
       "      <td>https://www.buscape.com.br/search?q=/lead?oid=...</td>\n",
       "    </tr>\n",
       "    <tr>\n",
       "      <th>13</th>\n",
       "      <td>Sabonete Líquido Refil Lux Botanicals Orquídea...</td>\n",
       "      <td>R$ 7,25</td>\n",
       "      <td>DrogaRaia.com</td>\n",
       "      <td>https://www.buscape.com.br/search?q=/lead?oid=...</td>\n",
       "    </tr>\n",
       "    <tr>\n",
       "      <th>14</th>\n",
       "      <td>Refil Sabonete Líquido Lux Botanicals Buquê de...</td>\n",
       "      <td>R$ 2,95</td>\n",
       "      <td>DrogaRaia.com</td>\n",
       "      <td>https://www.buscape.com.br/search?q=/lead?oid=...</td>\n",
       "    </tr>\n",
       "    <tr>\n",
       "      <th>15</th>\n",
       "      <td>Sabonete Líquido Lux Botanicals Rosas Francesa...</td>\n",
       "      <td>R$ 5,65</td>\n",
       "      <td>DrogaRaia.com</td>\n",
       "      <td>https://www.buscape.com.br/search?q=/lead?oid=...</td>\n",
       "    </tr>\n",
       "    <tr>\n",
       "      <th>16</th>\n",
       "      <td>Refil Sabonete Líquido Lux Botanicals Flor de ...</td>\n",
       "      <td>R$ 2,95</td>\n",
       "      <td>DrogaRaia.com</td>\n",
       "      <td>https://www.buscape.com.br/search?q=/lead?oid=...</td>\n",
       "    </tr>\n",
       "    <tr>\n",
       "      <th>17</th>\n",
       "      <td>Sabonete Líquido com Óleos Hidraflorais Capim-...</td>\n",
       "      <td>R$ 6,94</td>\n",
       "      <td>Amazon</td>\n",
       "      <td>https://www.buscape.com.br/search?q=/lead?oid=...</td>\n",
       "    </tr>\n",
       "    <tr>\n",
       "      <th>18</th>\n",
       "      <td>Sabonete Líquido Refil Lux Suave 200Ml Flor De...</td>\n",
       "      <td>R$ 8,88</td>\n",
       "      <td>Shoptime</td>\n",
       "      <td>https://www.buscape.com.br/search?q=/lead?oid=...</td>\n",
       "    </tr>\n",
       "    <tr>\n",
       "      <th>19</th>\n",
       "      <td>Sabonete Lux Buque De Jasmin 85g 4Unidades</td>\n",
       "      <td>R$ 6,89</td>\n",
       "      <td>Submarino</td>\n",
       "      <td>https://www.buscape.com.br/search?q=/lead?oid=...</td>\n",
       "    </tr>\n",
       "    <tr>\n",
       "      <th>20</th>\n",
       "      <td>Sabonete Lux Buque De Jasmin 85g 4Unidades</td>\n",
       "      <td>R$ 6,89</td>\n",
       "      <td>Americanas</td>\n",
       "      <td>https://www.buscape.com.br/search?q=/lead?oid=...</td>\n",
       "    </tr>\n",
       "    <tr>\n",
       "      <th>21</th>\n",
       "      <td>Sabonete Lux Buque De Jasmin 85g 4Unidades</td>\n",
       "      <td>R$ 6,89</td>\n",
       "      <td>Shoptime</td>\n",
       "      <td>https://www.buscape.com.br/search?q=/lead?oid=...</td>\n",
       "    </tr>\n",
       "    <tr>\n",
       "      <th>22</th>\n",
       "      <td>Sabonete Líquido Lux Buque de Jasmim 200ml Refil</td>\n",
       "      <td>R$ 4,78</td>\n",
       "      <td>Amazon</td>\n",
       "      <td>https://www.buscape.com.br/search?q=/lead?oid=...</td>\n",
       "    </tr>\n",
       "    <tr>\n",
       "      <th>23</th>\n",
       "      <td>Sabonete Líquido Refil Lux Suave 200Ml Flor De...</td>\n",
       "      <td>R$ 5,83</td>\n",
       "      <td>Amazon</td>\n",
       "      <td>https://www.buscape.com.br/search?q=/lead?oid=...</td>\n",
       "    </tr>\n",
       "    <tr>\n",
       "      <th>24</th>\n",
       "      <td>Sabonete Líquido Refil Lux Suave 200Ml Lavanda...</td>\n",
       "      <td>R$ 5,83</td>\n",
       "      <td>Amazon</td>\n",
       "      <td>https://www.buscape.com.br/search?q=/lead?oid=...</td>\n",
       "    </tr>\n",
       "    <tr>\n",
       "      <th>25</th>\n",
       "      <td>Sabonete Líquido Refil Lux Suave 200Ml Flor De...</td>\n",
       "      <td>R$ 6,94</td>\n",
       "      <td>Amazon</td>\n",
       "      <td>https://www.buscape.com.br/search?q=/lead?oid=...</td>\n",
       "    </tr>\n",
       "    <tr>\n",
       "      <th>26</th>\n",
       "      <td>Sabonete Líquido Lux Refil Botanicals Rosas Fr...</td>\n",
       "      <td>R$ 6,94</td>\n",
       "      <td>Amazon</td>\n",
       "      <td>https://www.buscape.com.br/search?q=/lead?oid=...</td>\n",
       "    </tr>\n",
       "    <tr>\n",
       "      <th>27</th>\n",
       "      <td>Sabonete Liquido Lux Refil Botanicals Orquidea...</td>\n",
       "      <td>R$ 6,94</td>\n",
       "      <td>Amazon</td>\n",
       "      <td>https://www.buscape.com.br/search?q=/lead?oid=...</td>\n",
       "    </tr>\n",
       "    <tr>\n",
       "      <th>28</th>\n",
       "      <td>Sabonete Líquido para as Mãos Lux 500ml</td>\n",
       "      <td>R$ 16,90</td>\n",
       "      <td>Magazine Luiza</td>\n",
       "      <td>https://www.buscape.com.br/search?q=/lead?oid=...</td>\n",
       "    </tr>\n",
       "    <tr>\n",
       "      <th>29</th>\n",
       "      <td>Refil Sabonete Líquido para Mãos Lux Botanical...</td>\n",
       "      <td>R$ 11,99</td>\n",
       "      <td>DrogaRaia.com</td>\n",
       "      <td>https://www.buscape.com.br/search?q=/lead?oid=...</td>\n",
       "    </tr>\n",
       "    <tr>\n",
       "      <th>30</th>\n",
       "      <td>Refil Sabonete Líquido para Mãos Lux Botanical...</td>\n",
       "      <td>R$ 11,99</td>\n",
       "      <td>Drogasil.com</td>\n",
       "      <td>https://www.buscape.com.br/search?q=/lead?oid=...</td>\n",
       "    </tr>\n",
       "    <tr>\n",
       "      <th>31</th>\n",
       "      <td>Sabonete em Barra Lux Botanicals Flor de Verbe...</td>\n",
       "      <td>R$ 1,89</td>\n",
       "      <td>Submarino</td>\n",
       "      <td>https://www.buscape.com.br/search?q=/lead?oid=...</td>\n",
       "    </tr>\n",
       "    <tr>\n",
       "      <th>32</th>\n",
       "      <td>Sabonete em Barra Lux Botanicals Buquê de Jasm...</td>\n",
       "      <td>R$ 1,89</td>\n",
       "      <td>Submarino</td>\n",
       "      <td>https://www.buscape.com.br/search?q=/lead?oid=...</td>\n",
       "    </tr>\n",
       "    <tr>\n",
       "      <th>33</th>\n",
       "      <td>Sabonete Líquido Capim-Limão &amp; Frangipani Lux ...</td>\n",
       "      <td>R$ 7,04</td>\n",
       "      <td>Amazon</td>\n",
       "      <td>https://www.buscape.com.br/search?q=/lead?oid=...</td>\n",
       "    </tr>\n",
       "  </tbody>\n",
       "</table>\n",
       "</div>"
      ],
      "text/plain": [
       "                                               Titulo     Preco  \\\n",
       "0   Sabonete em Barra Lux Botanicals Buquê de Jasm...   R$ 1,13   \n",
       "1   Sabonete em Barra Lux Botanicals Flor de Verbe...   R$ 1,13   \n",
       "2   Refil Sabonete Líquido Lux Botanicals Lavanda ...   R$ 2,95   \n",
       "3   Sabonete em Barra Lux Botanicals Flor de Lótus...   R$ 1,13   \n",
       "4   Sabonete em Barra Lux Botanicals Lavanda com 8...   R$ 1,13   \n",
       "5   Refil Sabonete Líquido Lux Botanicals Buquê de...   R$ 4,69   \n",
       "6   Sabonete Líquido Lux Botanicals Flor de Lótus ...   R$ 4,69   \n",
       "7   Sabonete em Barra Lux Botanicals Flor de Verbe...   R$ 1,29   \n",
       "8   Sabonete Líquido Lux Botanicals Rosas Francesa...   R$ 4,78   \n",
       "9   Refil Sabonete Líquido Lux Botanicals Capim Li...   R$ 2,95   \n",
       "10  Refil Sabonete Líquido Lux Botanicals Flor de ...   R$ 4,69   \n",
       "11  Sabonete Líquido Refil Lux Botanicals Orquídea...   R$ 5,35   \n",
       "12  Refil Sabonete Líquido Lux Botanicals Rosas Fr...   R$ 3,29   \n",
       "13  Sabonete Líquido Refil Lux Botanicals Orquídea...   R$ 7,25   \n",
       "14  Refil Sabonete Líquido Lux Botanicals Buquê de...   R$ 2,95   \n",
       "15  Sabonete Líquido Lux Botanicals Rosas Francesa...   R$ 5,65   \n",
       "16  Refil Sabonete Líquido Lux Botanicals Flor de ...   R$ 2,95   \n",
       "17  Sabonete Líquido com Óleos Hidraflorais Capim-...   R$ 6,94   \n",
       "18  Sabonete Líquido Refil Lux Suave 200Ml Flor De...   R$ 8,88   \n",
       "19         Sabonete Lux Buque De Jasmin 85g 4Unidades   R$ 6,89   \n",
       "20         Sabonete Lux Buque De Jasmin 85g 4Unidades   R$ 6,89   \n",
       "21         Sabonete Lux Buque De Jasmin 85g 4Unidades   R$ 6,89   \n",
       "22   Sabonete Líquido Lux Buque de Jasmim 200ml Refil   R$ 4,78   \n",
       "23  Sabonete Líquido Refil Lux Suave 200Ml Flor De...   R$ 5,83   \n",
       "24  Sabonete Líquido Refil Lux Suave 200Ml Lavanda...   R$ 5,83   \n",
       "25  Sabonete Líquido Refil Lux Suave 200Ml Flor De...   R$ 6,94   \n",
       "26  Sabonete Líquido Lux Refil Botanicals Rosas Fr...   R$ 6,94   \n",
       "27  Sabonete Liquido Lux Refil Botanicals Orquidea...   R$ 6,94   \n",
       "28            Sabonete Líquido para as Mãos Lux 500ml  R$ 16,90   \n",
       "29  Refil Sabonete Líquido para Mãos Lux Botanical...  R$ 11,99   \n",
       "30  Refil Sabonete Líquido para Mãos Lux Botanical...  R$ 11,99   \n",
       "31  Sabonete em Barra Lux Botanicals Flor de Verbe...   R$ 1,89   \n",
       "32  Sabonete em Barra Lux Botanicals Buquê de Jasm...   R$ 1,89   \n",
       "33  Sabonete Líquido Capim-Limão & Frangipani Lux ...   R$ 7,04   \n",
       "\n",
       "              Loja                                               Link  \n",
       "0     Drogasil.com  https://www.buscape.com.br/search?q=/lead?oid=...  \n",
       "1     Drogasil.com  https://www.buscape.com.br/search?q=/lead?oid=...  \n",
       "2    DrogaRaia.com  https://www.buscape.com.br/search?q=/lead?oid=...  \n",
       "3     Drogasil.com  https://www.buscape.com.br/search?q=/lead?oid=...  \n",
       "4     Drogasil.com  https://www.buscape.com.br/search?q=/lead?oid=...  \n",
       "5     Drogasil.com  https://www.buscape.com.br/search?q=/lead?oid=...  \n",
       "6     Drogasil.com  https://www.buscape.com.br/search?q=/lead?oid=...  \n",
       "7         Farma 22  https://www.buscape.com.br/search?q=/lead?oid=...  \n",
       "8    Farmadelivery  https://www.buscape.com.br/search?q=/lead?oid=...  \n",
       "9    DrogaRaia.com  https://www.buscape.com.br/search?q=/lead?oid=...  \n",
       "10    Drogasil.com  https://www.buscape.com.br/search?q=/lead?oid=...  \n",
       "11    Drogasil.com  https://www.buscape.com.br/search?q=/lead?oid=...  \n",
       "12   DrogaRaia.com  https://www.buscape.com.br/search?q=/lead?oid=...  \n",
       "13   DrogaRaia.com  https://www.buscape.com.br/search?q=/lead?oid=...  \n",
       "14   DrogaRaia.com  https://www.buscape.com.br/search?q=/lead?oid=...  \n",
       "15   DrogaRaia.com  https://www.buscape.com.br/search?q=/lead?oid=...  \n",
       "16   DrogaRaia.com  https://www.buscape.com.br/search?q=/lead?oid=...  \n",
       "17          Amazon  https://www.buscape.com.br/search?q=/lead?oid=...  \n",
       "18        Shoptime  https://www.buscape.com.br/search?q=/lead?oid=...  \n",
       "19       Submarino  https://www.buscape.com.br/search?q=/lead?oid=...  \n",
       "20      Americanas  https://www.buscape.com.br/search?q=/lead?oid=...  \n",
       "21        Shoptime  https://www.buscape.com.br/search?q=/lead?oid=...  \n",
       "22          Amazon  https://www.buscape.com.br/search?q=/lead?oid=...  \n",
       "23          Amazon  https://www.buscape.com.br/search?q=/lead?oid=...  \n",
       "24          Amazon  https://www.buscape.com.br/search?q=/lead?oid=...  \n",
       "25          Amazon  https://www.buscape.com.br/search?q=/lead?oid=...  \n",
       "26          Amazon  https://www.buscape.com.br/search?q=/lead?oid=...  \n",
       "27          Amazon  https://www.buscape.com.br/search?q=/lead?oid=...  \n",
       "28  Magazine Luiza  https://www.buscape.com.br/search?q=/lead?oid=...  \n",
       "29   DrogaRaia.com  https://www.buscape.com.br/search?q=/lead?oid=...  \n",
       "30    Drogasil.com  https://www.buscape.com.br/search?q=/lead?oid=...  \n",
       "31       Submarino  https://www.buscape.com.br/search?q=/lead?oid=...  \n",
       "32       Submarino  https://www.buscape.com.br/search?q=/lead?oid=...  \n",
       "33          Amazon  https://www.buscape.com.br/search?q=/lead?oid=...  "
      ]
     },
     "execution_count": 15,
     "metadata": {},
     "output_type": "execute_result"
    }
   ],
   "source": [
    "cotacao1"
   ]
  },
  {
   "cell_type": "code",
   "execution_count": 16,
   "id": "9477a614",
   "metadata": {},
   "outputs": [],
   "source": [
    "#Filtrando lojas repetidas\n",
    "cotacao1 = cotacao1.drop_duplicates(\"Loja\")"
   ]
  },
  {
   "cell_type": "code",
   "execution_count": 17,
   "id": "121fdc0c",
   "metadata": {},
   "outputs": [
    {
     "data": {
      "text/html": [
       "<div>\n",
       "<style scoped>\n",
       "    .dataframe tbody tr th:only-of-type {\n",
       "        vertical-align: middle;\n",
       "    }\n",
       "\n",
       "    .dataframe tbody tr th {\n",
       "        vertical-align: top;\n",
       "    }\n",
       "\n",
       "    .dataframe thead th {\n",
       "        text-align: right;\n",
       "    }\n",
       "</style>\n",
       "<table border=\"1\" class=\"dataframe\">\n",
       "  <thead>\n",
       "    <tr style=\"text-align: right;\">\n",
       "      <th></th>\n",
       "      <th>Titulo</th>\n",
       "      <th>Preco</th>\n",
       "      <th>Loja</th>\n",
       "      <th>Link</th>\n",
       "    </tr>\n",
       "  </thead>\n",
       "  <tbody>\n",
       "    <tr>\n",
       "      <th>0</th>\n",
       "      <td>Sabonete em Barra Lux Botanicals Buquê de Jasm...</td>\n",
       "      <td>R$ 1,13</td>\n",
       "      <td>Drogasil.com</td>\n",
       "      <td>https://www.buscape.com.br/search?q=/lead?oid=...</td>\n",
       "    </tr>\n",
       "    <tr>\n",
       "      <th>2</th>\n",
       "      <td>Refil Sabonete Líquido Lux Botanicals Lavanda ...</td>\n",
       "      <td>R$ 2,95</td>\n",
       "      <td>DrogaRaia.com</td>\n",
       "      <td>https://www.buscape.com.br/search?q=/lead?oid=...</td>\n",
       "    </tr>\n",
       "    <tr>\n",
       "      <th>7</th>\n",
       "      <td>Sabonete em Barra Lux Botanicals Flor de Verbe...</td>\n",
       "      <td>R$ 1,29</td>\n",
       "      <td>Farma 22</td>\n",
       "      <td>https://www.buscape.com.br/search?q=/lead?oid=...</td>\n",
       "    </tr>\n",
       "    <tr>\n",
       "      <th>8</th>\n",
       "      <td>Sabonete Líquido Lux Botanicals Rosas Francesa...</td>\n",
       "      <td>R$ 4,78</td>\n",
       "      <td>Farmadelivery</td>\n",
       "      <td>https://www.buscape.com.br/search?q=/lead?oid=...</td>\n",
       "    </tr>\n",
       "    <tr>\n",
       "      <th>17</th>\n",
       "      <td>Sabonete Líquido com Óleos Hidraflorais Capim-...</td>\n",
       "      <td>R$ 6,94</td>\n",
       "      <td>Amazon</td>\n",
       "      <td>https://www.buscape.com.br/search?q=/lead?oid=...</td>\n",
       "    </tr>\n",
       "    <tr>\n",
       "      <th>18</th>\n",
       "      <td>Sabonete Líquido Refil Lux Suave 200Ml Flor De...</td>\n",
       "      <td>R$ 8,88</td>\n",
       "      <td>Shoptime</td>\n",
       "      <td>https://www.buscape.com.br/search?q=/lead?oid=...</td>\n",
       "    </tr>\n",
       "    <tr>\n",
       "      <th>19</th>\n",
       "      <td>Sabonete Lux Buque De Jasmin 85g 4Unidades</td>\n",
       "      <td>R$ 6,89</td>\n",
       "      <td>Submarino</td>\n",
       "      <td>https://www.buscape.com.br/search?q=/lead?oid=...</td>\n",
       "    </tr>\n",
       "    <tr>\n",
       "      <th>20</th>\n",
       "      <td>Sabonete Lux Buque De Jasmin 85g 4Unidades</td>\n",
       "      <td>R$ 6,89</td>\n",
       "      <td>Americanas</td>\n",
       "      <td>https://www.buscape.com.br/search?q=/lead?oid=...</td>\n",
       "    </tr>\n",
       "    <tr>\n",
       "      <th>28</th>\n",
       "      <td>Sabonete Líquido para as Mãos Lux 500ml</td>\n",
       "      <td>R$ 16,90</td>\n",
       "      <td>Magazine Luiza</td>\n",
       "      <td>https://www.buscape.com.br/search?q=/lead?oid=...</td>\n",
       "    </tr>\n",
       "  </tbody>\n",
       "</table>\n",
       "</div>"
      ],
      "text/plain": [
       "                                               Titulo     Preco  \\\n",
       "0   Sabonete em Barra Lux Botanicals Buquê de Jasm...   R$ 1,13   \n",
       "2   Refil Sabonete Líquido Lux Botanicals Lavanda ...   R$ 2,95   \n",
       "7   Sabonete em Barra Lux Botanicals Flor de Verbe...   R$ 1,29   \n",
       "8   Sabonete Líquido Lux Botanicals Rosas Francesa...   R$ 4,78   \n",
       "17  Sabonete Líquido com Óleos Hidraflorais Capim-...   R$ 6,94   \n",
       "18  Sabonete Líquido Refil Lux Suave 200Ml Flor De...   R$ 8,88   \n",
       "19         Sabonete Lux Buque De Jasmin 85g 4Unidades   R$ 6,89   \n",
       "20         Sabonete Lux Buque De Jasmin 85g 4Unidades   R$ 6,89   \n",
       "28            Sabonete Líquido para as Mãos Lux 500ml  R$ 16,90   \n",
       "\n",
       "              Loja                                               Link  \n",
       "0     Drogasil.com  https://www.buscape.com.br/search?q=/lead?oid=...  \n",
       "2    DrogaRaia.com  https://www.buscape.com.br/search?q=/lead?oid=...  \n",
       "7         Farma 22  https://www.buscape.com.br/search?q=/lead?oid=...  \n",
       "8    Farmadelivery  https://www.buscape.com.br/search?q=/lead?oid=...  \n",
       "17          Amazon  https://www.buscape.com.br/search?q=/lead?oid=...  \n",
       "18        Shoptime  https://www.buscape.com.br/search?q=/lead?oid=...  \n",
       "19       Submarino  https://www.buscape.com.br/search?q=/lead?oid=...  \n",
       "20      Americanas  https://www.buscape.com.br/search?q=/lead?oid=...  \n",
       "28  Magazine Luiza  https://www.buscape.com.br/search?q=/lead?oid=...  "
      ]
     },
     "execution_count": 17,
     "metadata": {},
     "output_type": "execute_result"
    }
   ],
   "source": [
    "cotacao1"
   ]
  },
  {
   "cell_type": "code",
   "execution_count": null,
   "id": "6061f9d1",
   "metadata": {},
   "outputs": [],
   "source": []
  },
  {
   "cell_type": "code",
   "execution_count": 18,
   "id": "a3b383a9",
   "metadata": {},
   "outputs": [
    {
     "data": {
      "text/plain": [
       "<BarContainer object of 9 artists>"
      ]
     },
     "execution_count": 18,
     "metadata": {},
     "output_type": "execute_result"
    },
    {
     "data": {
      "image/png": "[encoded data removed]",
      "text/plain": [
       "<Figure size 432x288 with 1 Axes>"
      ]
     },
     "metadata": {
      "needs_background": "light"
     },
     "output_type": "display_data"
    }
   ],
   "source": [
    "plt.bar(cotacao1.Loja,cotacao1.Preco, color='blue')\n"
   ]
  },
  {
   "cell_type": "code",
   "execution_count": 19,
   "id": "828dd858",
   "metadata": {},
   "outputs": [],
   "source": [
    "Lojas = cotacao1.Loja\n"
   ]
  },
  {
   "cell_type": "code",
   "execution_count": 20,
   "id": "b94b3810",
   "metadata": {},
   "outputs": [
    {
     "name": "stdout",
     "output_type": "stream",
     "text": [
      "Foi realizada pesquisa entre as lojas: \n"
     ]
    },
    {
     "data": {
      "text/plain": [
       "0       Drogasil.com\n",
       "2      DrogaRaia.com\n",
       "7           Farma 22\n",
       "8      Farmadelivery\n",
       "17            Amazon\n",
       "18          Shoptime\n",
       "19         Submarino\n",
       "20        Americanas\n",
       "28    Magazine Luiza\n",
       "Name: Loja, dtype: object"
      ]
     },
     "execution_count": 20,
     "metadata": {},
     "output_type": "execute_result"
    }
   ],
   "source": [
    "print('Foi realizada pesquisa entre as lojas: ')\n",
    "Lojas"
   ]
  },
  {
   "cell_type": "code",
   "execution_count": 21,
   "id": "4fbaa580",
   "metadata": {},
   "outputs": [],
   "source": [
    "pmax = cotacao1['Preco'].max()\n",
    "\n",
    "pmin = cotacao1['Preco'].min()"
   ]
  },
  {
   "cell_type": "code",
   "execution_count": 22,
   "id": "9190a921",
   "metadata": {},
   "outputs": [
    {
     "name": "stdout",
     "output_type": "stream",
     "text": [
      "8,88\n"
     ]
    }
   ],
   "source": [
    "print(pmax[3:])"
   ]
  },
  {
   "cell_type": "code",
   "execution_count": 23,
   "id": "8d770115",
   "metadata": {},
   "outputs": [],
   "source": [
    "precomax  = pmax[3:]"
   ]
  },
  {
   "cell_type": "code",
   "execution_count": 24,
   "id": "c3f07b6b",
   "metadata": {},
   "outputs": [],
   "source": [
    "precomin  = pmin[3:]"
   ]
  },
  {
   "cell_type": "code",
   "execution_count": 25,
   "id": "537d387c",
   "metadata": {},
   "outputs": [],
   "source": [
    "\n",
    "pmax1 = float(precomax.replace(',', ''))"
   ]
  },
  {
   "cell_type": "code",
   "execution_count": 26,
   "id": "0e132a66",
   "metadata": {},
   "outputs": [],
   "source": [
    "pmin1 = float(precomin.replace(',', ''))"
   ]
  },
  {
   "cell_type": "code",
   "execution_count": 27,
   "id": "6c821322",
   "metadata": {},
   "outputs": [
    {
     "data": {
      "text/plain": [
       "7.75"
      ]
     },
     "execution_count": 27,
     "metadata": {},
     "output_type": "execute_result"
    }
   ],
   "source": [
    "variacaomedia = (pmax1 -pmin1)/100\n",
    "variacaomedia = round(variacaomedia,3)\n",
    "variacaomedia\n"
   ]
  },
  {
   "cell_type": "code",
   "execution_count": 28,
   "id": "ac2f9094",
   "metadata": {},
   "outputs": [],
   "source": [
    "\n",
    "pmax = cotacao1[cotacao1['Preco']==cotacao1['Preco'].max()]"
   ]
  },
  {
   "cell_type": "code",
   "execution_count": 29,
   "id": "69025076",
   "metadata": {},
   "outputs": [],
   "source": [
    "pmin =cotacao1[cotacao1['Preco']==cotacao1['Preco'].min()]"
   ]
  },
  {
   "cell_type": "code",
   "execution_count": 30,
   "id": "60e946f0",
   "metadata": {},
   "outputs": [
    {
     "name": "stdout",
     "output_type": "stream",
     "text": [
      "O melhor preco esta na loja: \n"
     ]
    },
    {
     "data": {
      "text/html": [
       "<div>\n",
       "<style scoped>\n",
       "    .dataframe tbody tr th:only-of-type {\n",
       "        vertical-align: middle;\n",
       "    }\n",
       "\n",
       "    .dataframe tbody tr th {\n",
       "        vertical-align: top;\n",
       "    }\n",
       "\n",
       "    .dataframe thead th {\n",
       "        text-align: right;\n",
       "    }\n",
       "</style>\n",
       "<table border=\"1\" class=\"dataframe\">\n",
       "  <thead>\n",
       "    <tr style=\"text-align: right;\">\n",
       "      <th></th>\n",
       "      <th>Titulo</th>\n",
       "      <th>Preco</th>\n",
       "      <th>Loja</th>\n",
       "      <th>Link</th>\n",
       "    </tr>\n",
       "  </thead>\n",
       "  <tbody>\n",
       "    <tr>\n",
       "      <th>0</th>\n",
       "      <td>Sabonete em Barra Lux Botanicals Buquê de Jasm...</td>\n",
       "      <td>R$ 1,13</td>\n",
       "      <td>Drogasil.com</td>\n",
       "      <td>https://www.buscape.com.br/search?q=/lead?oid=...</td>\n",
       "    </tr>\n",
       "  </tbody>\n",
       "</table>\n",
       "</div>"
      ],
      "text/plain": [
       "                                              Titulo    Preco          Loja  \\\n",
       "0  Sabonete em Barra Lux Botanicals Buquê de Jasm...  R$ 1,13  Drogasil.com   \n",
       "\n",
       "                                                Link  \n",
       "0  https://www.buscape.com.br/search?q=/lead?oid=...  "
      ]
     },
     "execution_count": 30,
     "metadata": {},
     "output_type": "execute_result"
    }
   ],
   "source": [
    "print(\"O melhor preco esta na loja: \" )\n",
    "\n",
    "\n",
    "\n",
    "\n",
    "pmin"
   ]
  },
  {
   "cell_type": "code",
   "execution_count": 31,
   "id": "585ae6aa",
   "metadata": {},
   "outputs": [
    {
     "name": "stdout",
     "output_type": "stream",
     "text": [
      "O preço mais alto esta na loja: \n"
     ]
    },
    {
     "data": {
      "text/html": [
       "<div>\n",
       "<style scoped>\n",
       "    .dataframe tbody tr th:only-of-type {\n",
       "        vertical-align: middle;\n",
       "    }\n",
       "\n",
       "    .dataframe tbody tr th {\n",
       "        vertical-align: top;\n",
       "    }\n",
       "\n",
       "    .dataframe thead th {\n",
       "        text-align: right;\n",
       "    }\n",
       "</style>\n",
       "<table border=\"1\" class=\"dataframe\">\n",
       "  <thead>\n",
       "    <tr style=\"text-align: right;\">\n",
       "      <th></th>\n",
       "      <th>Titulo</th>\n",
       "      <th>Preco</th>\n",
       "      <th>Loja</th>\n",
       "      <th>Link</th>\n",
       "    </tr>\n",
       "  </thead>\n",
       "  <tbody>\n",
       "    <tr>\n",
       "      <th>18</th>\n",
       "      <td>Sabonete Líquido Refil Lux Suave 200Ml Flor De...</td>\n",
       "      <td>R$ 8,88</td>\n",
       "      <td>Shoptime</td>\n",
       "      <td>https://www.buscape.com.br/search?q=/lead?oid=...</td>\n",
       "    </tr>\n",
       "  </tbody>\n",
       "</table>\n",
       "</div>"
      ],
      "text/plain": [
       "                                               Titulo    Preco      Loja  \\\n",
       "18  Sabonete Líquido Refil Lux Suave 200Ml Flor De...  R$ 8,88  Shoptime   \n",
       "\n",
       "                                                 Link  \n",
       "18  https://www.buscape.com.br/search?q=/lead?oid=...  "
      ]
     },
     "execution_count": 31,
     "metadata": {},
     "output_type": "execute_result"
    }
   ],
   "source": [
    "print(\"O preço mais alto esta na loja: \" )\n",
    "pmax"
   ]
  },
  {
   "cell_type": "code",
   "execution_count": null,
   "id": "e0e38903",
   "metadata": {},
   "outputs": [],
   "source": []
  },
  {
   "cell_type": "code",
   "execution_count": null,
   "id": "936395b0",
   "metadata": {},
   "outputs": [],
   "source": []
  }
 ],
 "metadata": {
  "kernelspec": {
   "display_name": "Python 3",
   "language": "python",
   "name": "python3"
  },
  "language_info": {
   "codemirror_mode": {
    "name": "ipython",
    "version": 3
   },
   "file_extension": ".py",
   "mimetype": "text/x-python",
   "name": "python",
   "nbconvert_exporter": "python",
   "pygments_lexer": "ipython3",
   "version": "3.8.8"
  }
 },
 "nbformat": 4,
 "nbformat_minor": 5
}
