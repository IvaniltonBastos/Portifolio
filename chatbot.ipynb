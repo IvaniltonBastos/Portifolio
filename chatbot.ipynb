{
  "nbformat": 4,
  "nbformat_minor": 0,
  "metadata": {
    "colab": {
      "name": "Cópia de chatbot.ipynb",
      "provenance": [],
      "collapsed_sections": [],
      "authorship_tag": "ABX9TyOL9A8sSgzu2y/C2bp2lmuQ",
      "include_colab_link": true
    },
    "kernelspec": {
      "name": "python3",
      "display_name": "Python 3"
    },
    "language_info": {
      "name": "python"
    }
  },
  "cells": [
    {
      "cell_type": "markdown",
      "metadata": {
        "id": "view-in-github",
        "colab_type": "text"
      },
      "source": [
        "<a href=\"https://colab.research.google.com/github/IvaniltonBastos/Portifolio/blob/main/chatbot.ipynb\" target=\"_parent\"><img src=\"https://colab.research.google.com/assets/colab-badge.svg\" alt=\"Open In Colab\"/></a>"
      ]
    },
    {
      "cell_type": "code",
      "metadata": {
        "id": "TQsq2YlCEXSF"
      },
      "source": [
        "from chatterbot.trainers import ListTrainer\n",
        "from chatterbot import ChatBot\n",
        "import speech_recognition as sr\n",
        "from gtts import gTTS\n",
        "from playsound import playsound"
      ],
      "execution_count": null,
      "outputs": []
    },
    {
      "cell_type": "code",
      "metadata": {
        "colab": {
          "base_uri": "https://localhost:8080/"
        },
        "id": "3QjbEQjMHMwI",
        "outputId": "ab30b6be-4c37-4c36-fff9-751bb41a631d"
      },
      "source": [
        "!pip install playsound"
      ],
      "execution_count": null,
      "outputs": [
        {
          "output_type": "stream",
          "text": [
            "Collecting playsound\n",
            "  Downloading playsound-1.2.2-py2.py3-none-any.whl (6.0 kB)\n",
            "Installing collected packages: playsound\n",
            "Successfully installed playsound-1.2.2\n"
          ],
          "name": "stdout"
        }
      ]
    },
    {
      "cell_type": "code",
      "metadata": {
        "id": "TW0piRfTEiBF"
      },
      "source": [
        "def ouvir_microfone():\n",
        "\t\n",
        "\tmicrofone = sr.Recognizer()\n",
        "\t\t\n",
        "\twith sr.Microfone() as source:\n",
        "\t\tmicrofone.adjust_for_ambient_noise(source)\n",
        "\t\tprint(\"Microfone...\")\n",
        "\t\taudio =microfone.listen(source)\n",
        "\ttry:\n",
        "\t\tfrase = microfone.recognize_google(audio, language=\"pt-BR\")\n",
        "\t\tprint('Humano...'+ frase)\n",
        "\texcept sr.UnkownValueError:\n",
        "\t\tprint(\"bot:Isso nÃ£o funcionou\")\n",
        "\treturn frase"
      ],
      "execution_count": null,
      "outputs": []
    },
    {
      "cell_type": "code",
      "metadata": {
        "id": "F9KKjQLJEjE9"
      },
      "source": [
        "\n",
        "def cria_audio(audio):\n",
        "\ttts = gTTS (audio, lang = 'pt-BR')\n",
        "\ttts.save('bot.mp3')\n",
        "\tplaysound('bot.mp3')"
      ],
      "execution_count": null,
      "outputs": []
    },
    {
      "cell_type": "code",
      "metadata": {
        "id": "dISDL8WHEkAK"
      },
      "source": [
        "\n",
        "bot = ChatBot(\"Chatbot\")\n"
      ],
      "execution_count": null,
      "outputs": []
    },
    {
      "cell_type": "code",
      "metadata": {
        "colab": {
          "base_uri": "https://localhost:8080/"
        },
        "id": "QjRJ59WWEkRQ",
        "outputId": "90128304-31fd-4db4-a95f-0f53c9f57e87"
      },
      "source": [
        "conversa = ['Oi','Ola','Tudo bem?','Tudo bem e voce?','Eu estou bem','Que bom','Qual o melhor sistema?','Linux']\n",
        "trainer = ListTrainer(bot)\n",
        "trainer.train(conversa)"
      ],
      "execution_count": null,
      "outputs": [
        {
          "output_type": "stream",
          "text": [
            "List Trainer: [####################] 100%\n"
          ],
          "name": "stdout"
        }
      ]
    },
    {
      "cell_type": "code",
      "metadata": {
        "colab": {
          "base_uri": "https://localhost:8080/"
        },
        "id": "UB7f3ZywEkdO",
        "outputId": "eb0664ff-b0b3-47e6-d3ed-c7523dcb1037"
      },
      "source": [
        "while True:\n",
        "\tquest = input(\"humano...\")\n",
        "\t#quest = ouvir_microfone()\n",
        "\tresposta = bot.get_response(quest)\n",
        "\t#cria_audio(str(resposta))\n",
        "\tprint('Bot:',resposta)"
      ],
      "execution_count": null,
      "outputs": [
        {
          "output_type": "stream",
          "text": [
            "humano...ola\n",
            "Bot: Tudo bem?\n",
            "humano...tudo bem\n",
            "Bot: Tudo bem e voce?\n",
            "humano...o que vc faz\n",
            "Bot: Oi\n",
            "humano...o que voce faz\n",
            "Bot: Eu estou bem\n",
            "humano...oi\n",
            "Bot: Ola\n",
            "humano...tudo bem\n",
            "Bot: Tudo bem e voce?\n",
            "humano...qual o melhor sistema operacional\n",
            "Bot: oi\n",
            "humano...Qual o melhor sistema?\n",
            "Bot: Linux\n",
            "humano...sistema\n",
            "Bot: Linux\n"
          ],
          "name": "stdout"
        }
      ]
    },
    {
      "cell_type": "code",
      "metadata": {
        "id": "jlkDUcTxEkoo"
      },
      "source": [
        ""
      ],
      "execution_count": null,
      "outputs": []
    },
    {
      "cell_type": "code",
      "metadata": {
        "id": "X98TUFHWEk0I"
      },
      "source": [
        ""
      ],
      "execution_count": null,
      "outputs": []
    },
    {
      "cell_type": "code",
      "metadata": {
        "id": "6VMkgdjxEk_d"
      },
      "source": [
        ""
      ],
      "execution_count": null,
      "outputs": []
    },
    {
      "cell_type": "code",
      "metadata": {
        "id": "IvH3ntJaEZuX"
      },
      "source": [
        ""
      ],
      "execution_count": null,
      "outputs": []
    }
  ]
}